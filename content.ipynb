{
  "cells": [
    {
      "cell_type": "code",
      "execution_count": null,
      "metadata": {
        "colab": {
          "base_uri": "https://localhost:8080/"
        },
        "id": "m_XNdlWBVOor",
        "outputId": "cfb69b68-a0ae-4327-9615-c56c4c80bf4e"
      },
      "outputs": [
        {
          "output_type": "stream",
          "name": "stdout",
          "text": [
            "Cloning into 'fantlab-recommender-system'...\n",
            "Warning: Permanently added the ED25519 host key for IP address '140.82.113.4' to the list of known hosts.\n",
            "remote: Enumerating objects: 578, done.\u001b[K\n",
            "remote: Counting objects: 100% (175/175), done.\u001b[K\n",
            "remote: Compressing objects: 100% (119/119), done.\u001b[K\n",
            "remote: Total 578 (delta 112), reused 112 (delta 53), pack-reused 403\u001b[K\n",
            "Receiving objects: 100% (578/578), 545.34 MiB | 24.63 MiB/s, done.\n",
            "Resolving deltas: 100% (307/307), done.\n"
          ]
        }
      ],
      "source": [
        "# Cloning the project repository\n",
        "! git clone git@github.com:yupopov/fantlab-recommender-system.git \n",
        "import os\n",
        "os.chdir('fantlab-recommender-system')"
      ]
    },
    {
      "cell_type": "code",
      "source": [
        "! git add README.md\n",
        "! git commit -m 'update README.md'\n",
        "! git push origin main"
      ],
      "metadata": {
        "colab": {
          "base_uri": "https://localhost:8080/"
        },
        "id": "8r6rONDzD_xa",
        "outputId": "f44af31e-609c-4dac-c425-6000feff0329"
      },
      "execution_count": null,
      "outputs": [
        {
          "output_type": "stream",
          "name": "stdout",
          "text": [
            "[main 213e2e2] update README.md\n",
            " 1 file changed, 6 insertions(+), 6 deletions(-)\n",
            "Counting objects: 3, done.\n",
            "Delta compression using up to 2 threads.\n",
            "Compressing objects: 100% (3/3), done.\n",
            "Writing objects: 100% (3/3), 369 bytes | 369.00 KiB/s, done.\n",
            "Total 3 (delta 1), reused 0 (delta 0)\n",
            "remote: Resolving deltas: 100% (1/1), completed with 1 local object.\u001b[K\n",
            "To github.com:yupopov/fantlab-recommender-system.git\n",
            "   8688a60..213e2e2  main -> main\n"
          ]
        }
      ]
    },
    {
      "cell_type": "code",
      "execution_count": null,
      "metadata": {
        "id": "ndC_mNyrSweC"
      },
      "outputs": [],
      "source": [
        "%%capture\n",
        "% load_ext autoreload\n",
        "% autoreload 2\n",
        "\n",
        "import sys\n",
        "import gzip\n",
        "from string import punctuation\n",
        "import requests\n",
        "import json\n",
        "import re\n",
        "import time\n",
        "from collections import defaultdict, Counter\n",
        "from tqdm.auto import tqdm\n",
        "import pickle\n",
        "from pprint import pprint\n",
        "\n",
        "import numpy as np\n",
        "import pandas as pd\n",
        "import torch\n",
        "from scipy.sparse import csr_matrix, csc_matrix, save_npz, load_npz\n",
        "from sklearn.feature_extraction.text import CountVectorizer\n",
        "from sklearn.metrics.pairwise import cosine_similarity\n",
        "from sklearn.feature_extraction.text import TfidfVectorizer\n",
        "from sklearn.preprocessing import normalize\n",
        "! pip install nltk\n",
        "! pip install gensim==4.2.0\n",
        "! pip install pymorphy2\n",
        "! pip install aiohttp\n",
        "! pip install transformers sentencepiece\n",
        "! pip install lightfm\n",
        "import lightfm\n",
        "from transformers import AutoTokenizer, AutoModel\n",
        "from nltk import word_tokenize\n",
        "import gensim\n",
        "import pymorphy2\n",
        "import nltk\n",
        "nltk.download('stopwords')\n",
        "nltk.download('punkt')\n",
        "from nltk.corpus import stopwords\n",
        "from nltk.tokenize import word_tokenize\n",
        "from pymorphy2 import MorphAnalyzer\n",
        "from string import punctuation\n",
        "from scipy.sparse import save_npz, load_npz\n",
        "\n",
        "\n",
        "from src.data_retrieval.html_extraction import get_work_ids\n",
        "from src.preprocessing.title_parser import TitleParser\n",
        "from src.preprocessing.item_features_buildup import item_features_buildup\n",
        "from src.models.LinearRecommender import LinearRecommender\n",
        "from src.models.get_top_k_predictions_with_label import get_top_k_predictions_with_labels\n",
        "\n",
        "import logging\n",
        "logging.basicConfig(format='%(asctime)s : %(levelname)s : %(message)s', level=logging.INFO)"
      ]
    },
    {
      "cell_type": "markdown",
      "metadata": {
        "id": "KCu0P8q4g-Y4"
      },
      "source": [
        "# Data preprocessing"
      ]
    },
    {
      "cell_type": "code",
      "execution_count": null,
      "metadata": {
        "colab": {
          "base_uri": "https://localhost:8080/",
          "height": 629,
          "referenced_widgets": [
            "d06493bbf9e74789a435a9e56a4c7afc",
            "3771922cc80d42bf81c8ffc50d509342",
            "75278455df254687982e46f91899a8ac",
            "305eb6bf890e42c9be2bcc1aa8181586",
            "bbd2c6b1dd8d4f758f8c03c63968a243",
            "868205095e4549f3b6db994ba80b19ec",
            "ae018726cc794ad2bf6a47e71904a7e4",
            "31b240956bbe43a383e8aa61e6f8645c",
            "5145ee408528403381212cc43cb3b23a",
            "dbdb291c7d0945eb8fd743e07a5c16bf",
            "1cda7be1c3264c2db17d831cc28e7b7a"
          ]
        },
        "id": "8fzkxXhz7nOu",
        "outputId": "4fa8dac3-4b82-4d0b-8f33-8411fc969b3c"
      },
      "outputs": [
        {
          "output_type": "display_data",
          "data": {
            "text/plain": [
              "  0%|          | 0/23867 [00:00<?, ?it/s]"
            ],
            "application/vnd.jupyter.widget-view+json": {
              "version_major": 2,
              "version_minor": 0,
              "model_id": "d06493bbf9e74789a435a9e56a4c7afc"
            }
          },
          "metadata": {}
        },
        {
          "output_type": "execute_result",
          "data": {
            "text/plain": [
              "                                                 work_name  \\\n",
              "work_id                                                      \n",
              "103954                               Сотый сон Кэрол Онейр   \n",
              "234281   На прорыв времени! Российский спецназ против г...   \n",
              "268642                                               Фреон   \n",
              "174314                                      Неосквернённый   \n",
              "34830                             Железный сокол Гардарики   \n",
              "\n",
              "                                          work_description work_name_bonus  \\\n",
              "work_id                                                                      \n",
              "103954   кэрол онейра сочинять сон простой золотой сон-...                   \n",
              "234281   способный бригада российский спецназ перенести...                   \n",
              "268642   хмурый вечно замкнутый сталкер-одиночка фреон ...                   \n",
              "174314   голова полоумный волк жить демон который спаса...                   \n",
              "34830    среди сотрудник институт экспериментальный ист...                   \n",
              "\n",
              "                                             work_notes           authors  \\\n",
              "work_id                                                                     \n",
              "103954                                                   диана_уинн_джонс   \n",
              "234281                                                     сергей_артюхин   \n",
              "268642   книга являться непрямой продолжение роман лунь    сергей_клочков   \n",
              "174314                                                        грегори_киз   \n",
              "34830                                                    владимир_свержин   \n",
              "\n",
              "               lang                                        genre_infos  \\\n",
              "work_id                                                                  \n",
              "103954   английский  [(19, Фэнтези, 7, 0.9), (32, Сказка/Притча, 5,...   \n",
              "234281      русский  [(1, Фантастика, 6, 1), (64, Военное, 6, 1), (...   \n",
              "268642      русский  [(1, Фантастика, 5, 1), (52, Приключенческое, ...   \n",
              "174314   английский  [(19, Фэнтези, 40, 1), (52, Приключенческое, 3...   \n",
              "34830       русский  [(1, Фантастика, 11, 1), (52, Приключенческое,...   \n",
              "\n",
              "          genre_group_1_labels                         genre_group_2_labels  \\\n",
              "work_id                                                                       \n",
              "103954   фэнтези сказка/притча              приключенческое психологическое   \n",
              "234281              фантастика                                      военное   \n",
              "268642              фантастика  приключенческое на_основе_игровой_вселенной   \n",
              "174314                 фэнтези                              приключенческое   \n",
              "34830               фантастика                  приключенческое ироническое   \n",
              "\n",
              "                                      genre_group_3_labels  \\\n",
              "work_id                                                      \n",
              "103954                          параллельный_мир/вселенная   \n",
              "234281   наш_мир_(земля) альтернативная_история_нашего_...   \n",
              "268642                                     наш_мир_(земля)   \n",
              "174314                    другой_мир,_не_связанный_с_нашим   \n",
              "34830           альтернативная_история_нашего_мира_(земли)   \n",
              "\n",
              "                               genre_group_4_labels  \\\n",
              "work_id                                               \n",
              "103954                неопределенное_время_действия   \n",
              "234281                                       20_век   \n",
              "268642                                       21_век   \n",
              "174314                неопределенное_время_действия   \n",
              "34830    эпоха_географических_открытий_(15-16_века)   \n",
              "\n",
              "                                      genre_group_6_labels  \\\n",
              "work_id                                                      \n",
              "103954                        становление/взросление_героя   \n",
              "234281          путешественники_(попаданцы) прогрессорство   \n",
              "268642                           путешествие_к_особой_цели   \n",
              "174314                           путешествие_к_особой_цели   \n",
              "34830    путешественники_(попаданцы) путешествие_к_особ...   \n",
              "\n",
              "          genre_group_7_labels      genre_group_5_labels awards  \n",
              "work_id                                                          \n",
              "103954                линейный  любой детская_литература         \n",
              "234281    линейно-параллельный                     любой         \n",
              "268642   линейный_с_экскурсами                     любой         \n",
              "174314                линейный       только_для_взрослых         \n",
              "34830                 линейный                     любой         "
            ],
            "text/html": [
              "\n",
              "  <div id=\"df-4bccfa9c-4ddf-4eb5-8df0-38d6c6778f2f\">\n",
              "    <div class=\"colab-df-container\">\n",
              "      <div>\n",
              "<style scoped>\n",
              "    .dataframe tbody tr th:only-of-type {\n",
              "        vertical-align: middle;\n",
              "    }\n",
              "\n",
              "    .dataframe tbody tr th {\n",
              "        vertical-align: top;\n",
              "    }\n",
              "\n",
              "    .dataframe thead th {\n",
              "        text-align: right;\n",
              "    }\n",
              "</style>\n",
              "<table border=\"1\" class=\"dataframe\">\n",
              "  <thead>\n",
              "    <tr style=\"text-align: right;\">\n",
              "      <th></th>\n",
              "      <th>work_name</th>\n",
              "      <th>work_description</th>\n",
              "      <th>work_name_bonus</th>\n",
              "      <th>work_notes</th>\n",
              "      <th>authors</th>\n",
              "      <th>lang</th>\n",
              "      <th>genre_infos</th>\n",
              "      <th>genre_group_1_labels</th>\n",
              "      <th>genre_group_2_labels</th>\n",
              "      <th>genre_group_3_labels</th>\n",
              "      <th>genre_group_4_labels</th>\n",
              "      <th>genre_group_6_labels</th>\n",
              "      <th>genre_group_7_labels</th>\n",
              "      <th>genre_group_5_labels</th>\n",
              "      <th>awards</th>\n",
              "    </tr>\n",
              "    <tr>\n",
              "      <th>work_id</th>\n",
              "      <th></th>\n",
              "      <th></th>\n",
              "      <th></th>\n",
              "      <th></th>\n",
              "      <th></th>\n",
              "      <th></th>\n",
              "      <th></th>\n",
              "      <th></th>\n",
              "      <th></th>\n",
              "      <th></th>\n",
              "      <th></th>\n",
              "      <th></th>\n",
              "      <th></th>\n",
              "      <th></th>\n",
              "      <th></th>\n",
              "    </tr>\n",
              "  </thead>\n",
              "  <tbody>\n",
              "    <tr>\n",
              "      <th>103954</th>\n",
              "      <td>Сотый сон Кэрол Онейр</td>\n",
              "      <td>кэрол онейра сочинять сон простой золотой сон-...</td>\n",
              "      <td></td>\n",
              "      <td></td>\n",
              "      <td>диана_уинн_джонс</td>\n",
              "      <td>английский</td>\n",
              "      <td>[(19, Фэнтези, 7, 0.9), (32, Сказка/Притча, 5,...</td>\n",
              "      <td>фэнтези сказка/притча</td>\n",
              "      <td>приключенческое психологическое</td>\n",
              "      <td>параллельный_мир/вселенная</td>\n",
              "      <td>неопределенное_время_действия</td>\n",
              "      <td>становление/взросление_героя</td>\n",
              "      <td>линейный</td>\n",
              "      <td>любой детская_литература</td>\n",
              "      <td></td>\n",
              "    </tr>\n",
              "    <tr>\n",
              "      <th>234281</th>\n",
              "      <td>На прорыв времени! Российский спецназ против г...</td>\n",
              "      <td>способный бригада российский спецназ перенести...</td>\n",
              "      <td></td>\n",
              "      <td></td>\n",
              "      <td>сергей_артюхин</td>\n",
              "      <td>русский</td>\n",
              "      <td>[(1, Фантастика, 6, 1), (64, Военное, 6, 1), (...</td>\n",
              "      <td>фантастика</td>\n",
              "      <td>военное</td>\n",
              "      <td>наш_мир_(земля) альтернативная_история_нашего_...</td>\n",
              "      <td>20_век</td>\n",
              "      <td>путешественники_(попаданцы) прогрессорство</td>\n",
              "      <td>линейно-параллельный</td>\n",
              "      <td>любой</td>\n",
              "      <td></td>\n",
              "    </tr>\n",
              "    <tr>\n",
              "      <th>268642</th>\n",
              "      <td>Фреон</td>\n",
              "      <td>хмурый вечно замкнутый сталкер-одиночка фреон ...</td>\n",
              "      <td></td>\n",
              "      <td>книга являться непрямой продолжение роман лунь</td>\n",
              "      <td>сергей_клочков</td>\n",
              "      <td>русский</td>\n",
              "      <td>[(1, Фантастика, 5, 1), (52, Приключенческое, ...</td>\n",
              "      <td>фантастика</td>\n",
              "      <td>приключенческое на_основе_игровой_вселенной</td>\n",
              "      <td>наш_мир_(земля)</td>\n",
              "      <td>21_век</td>\n",
              "      <td>путешествие_к_особой_цели</td>\n",
              "      <td>линейный_с_экскурсами</td>\n",
              "      <td>любой</td>\n",
              "      <td></td>\n",
              "    </tr>\n",
              "    <tr>\n",
              "      <th>174314</th>\n",
              "      <td>Неосквернённый</td>\n",
              "      <td>голова полоумный волк жить демон который спаса...</td>\n",
              "      <td></td>\n",
              "      <td></td>\n",
              "      <td>грегори_киз</td>\n",
              "      <td>английский</td>\n",
              "      <td>[(19, Фэнтези, 40, 1), (52, Приключенческое, 3...</td>\n",
              "      <td>фэнтези</td>\n",
              "      <td>приключенческое</td>\n",
              "      <td>другой_мир,_не_связанный_с_нашим</td>\n",
              "      <td>неопределенное_время_действия</td>\n",
              "      <td>путешествие_к_особой_цели</td>\n",
              "      <td>линейный</td>\n",
              "      <td>только_для_взрослых</td>\n",
              "      <td></td>\n",
              "    </tr>\n",
              "    <tr>\n",
              "      <th>34830</th>\n",
              "      <td>Железный сокол Гардарики</td>\n",
              "      <td>среди сотрудник институт экспериментальный ист...</td>\n",
              "      <td></td>\n",
              "      <td></td>\n",
              "      <td>владимир_свержин</td>\n",
              "      <td>русский</td>\n",
              "      <td>[(1, Фантастика, 11, 1), (52, Приключенческое,...</td>\n",
              "      <td>фантастика</td>\n",
              "      <td>приключенческое ироническое</td>\n",
              "      <td>альтернативная_история_нашего_мира_(земли)</td>\n",
              "      <td>эпоха_географических_открытий_(15-16_века)</td>\n",
              "      <td>путешественники_(попаданцы) путешествие_к_особ...</td>\n",
              "      <td>линейный</td>\n",
              "      <td>любой</td>\n",
              "      <td></td>\n",
              "    </tr>\n",
              "  </tbody>\n",
              "</table>\n",
              "</div>\n",
              "      <button class=\"colab-df-convert\" onclick=\"convertToInteractive('df-4bccfa9c-4ddf-4eb5-8df0-38d6c6778f2f')\"\n",
              "              title=\"Convert this dataframe to an interactive table.\"\n",
              "              style=\"display:none;\">\n",
              "        \n",
              "  <svg xmlns=\"http://www.w3.org/2000/svg\" height=\"24px\"viewBox=\"0 0 24 24\"\n",
              "       width=\"24px\">\n",
              "    <path d=\"M0 0h24v24H0V0z\" fill=\"none\"/>\n",
              "    <path d=\"M18.56 5.44l.94 2.06.94-2.06 2.06-.94-2.06-.94-.94-2.06-.94 2.06-2.06.94zm-11 1L8.5 8.5l.94-2.06 2.06-.94-2.06-.94L8.5 2.5l-.94 2.06-2.06.94zm10 10l.94 2.06.94-2.06 2.06-.94-2.06-.94-.94-2.06-.94 2.06-2.06.94z\"/><path d=\"M17.41 7.96l-1.37-1.37c-.4-.4-.92-.59-1.43-.59-.52 0-1.04.2-1.43.59L10.3 9.45l-7.72 7.72c-.78.78-.78 2.05 0 2.83L4 21.41c.39.39.9.59 1.41.59.51 0 1.02-.2 1.41-.59l7.78-7.78 2.81-2.81c.8-.78.8-2.07 0-2.86zM5.41 20L4 18.59l7.72-7.72 1.47 1.35L5.41 20z\"/>\n",
              "  </svg>\n",
              "      </button>\n",
              "      \n",
              "  <style>\n",
              "    .colab-df-container {\n",
              "      display:flex;\n",
              "      flex-wrap:wrap;\n",
              "      gap: 12px;\n",
              "    }\n",
              "\n",
              "    .colab-df-convert {\n",
              "      background-color: #E8F0FE;\n",
              "      border: none;\n",
              "      border-radius: 50%;\n",
              "      cursor: pointer;\n",
              "      display: none;\n",
              "      fill: #1967D2;\n",
              "      height: 32px;\n",
              "      padding: 0 0 0 0;\n",
              "      width: 32px;\n",
              "    }\n",
              "\n",
              "    .colab-df-convert:hover {\n",
              "      background-color: #E2EBFA;\n",
              "      box-shadow: 0px 1px 2px rgba(60, 64, 67, 0.3), 0px 1px 3px 1px rgba(60, 64, 67, 0.15);\n",
              "      fill: #174EA6;\n",
              "    }\n",
              "\n",
              "    [theme=dark] .colab-df-convert {\n",
              "      background-color: #3B4455;\n",
              "      fill: #D2E3FC;\n",
              "    }\n",
              "\n",
              "    [theme=dark] .colab-df-convert:hover {\n",
              "      background-color: #434B5C;\n",
              "      box-shadow: 0px 1px 3px 1px rgba(0, 0, 0, 0.15);\n",
              "      filter: drop-shadow(0px 1px 2px rgba(0, 0, 0, 0.3));\n",
              "      fill: #FFFFFF;\n",
              "    }\n",
              "  </style>\n",
              "\n",
              "      <script>\n",
              "        const buttonEl =\n",
              "          document.querySelector('#df-4bccfa9c-4ddf-4eb5-8df0-38d6c6778f2f button.colab-df-convert');\n",
              "        buttonEl.style.display =\n",
              "          google.colab.kernel.accessAllowed ? 'block' : 'none';\n",
              "\n",
              "        async function convertToInteractive(key) {\n",
              "          const element = document.querySelector('#df-4bccfa9c-4ddf-4eb5-8df0-38d6c6778f2f');\n",
              "          const dataTable =\n",
              "            await google.colab.kernel.invokeFunction('convertToInteractive',\n",
              "                                                     [key], {});\n",
              "          if (!dataTable) return;\n",
              "\n",
              "          const docLinkHtml = 'Like what you see? Visit the ' +\n",
              "            '<a target=\"_blank\" href=https://colab.research.google.com/notebooks/data_table.ipynb>data table notebook</a>'\n",
              "            + ' to learn more about interactive tables.';\n",
              "          element.innerHTML = '';\n",
              "          dataTable['output_type'] = 'display_data';\n",
              "          await google.colab.output.renderOutput(dataTable, element);\n",
              "          const docLink = document.createElement('div');\n",
              "          docLink.innerHTML = docLinkHtml;\n",
              "          element.appendChild(docLink);\n",
              "        }\n",
              "      </script>\n",
              "    </div>\n",
              "  </div>\n",
              "  "
            ]
          },
          "metadata": {},
          "execution_count": 5
        }
      ],
      "source": [
        "# Load and parse informations about books\n",
        "with gzip.open('./data/raw/work_infos.json.gz', 'rt') as f:\n",
        "    work_infos = json.load(f)\n",
        "\n",
        "title_parser = TitleParser(normalize_description=True)\n",
        "works_df = title_parser(work_infos)\n",
        "\n",
        "works_df.head()"
      ]
    },
    {
      "cell_type": "code",
      "execution_count": null,
      "metadata": {
        "colab": {
          "base_uri": "https://localhost:8080/",
          "height": 206
        },
        "id": "AC5gMrZYNZjZ",
        "outputId": "691bcc9d-d5f6-41a3-f687-36de3b5cb02b"
      },
      "outputs": [
        {
          "output_type": "execute_result",
          "data": {
            "text/plain": [
              "   user_id  work_id  mark       date\n",
              "0    48027   103954    10 2010-08-18\n",
              "1    61504   103954    10 2017-07-15\n",
              "2   192139   103954    10 2021-06-10\n",
              "3   118819   103954    10 2014-04-22\n",
              "4    71960   103954    10 2012-04-19"
            ],
            "text/html": [
              "\n",
              "  <div id=\"df-4bb89760-23dd-4349-8da1-57778ce2683d\">\n",
              "    <div class=\"colab-df-container\">\n",
              "      <div>\n",
              "<style scoped>\n",
              "    .dataframe tbody tr th:only-of-type {\n",
              "        vertical-align: middle;\n",
              "    }\n",
              "\n",
              "    .dataframe tbody tr th {\n",
              "        vertical-align: top;\n",
              "    }\n",
              "\n",
              "    .dataframe thead th {\n",
              "        text-align: right;\n",
              "    }\n",
              "</style>\n",
              "<table border=\"1\" class=\"dataframe\">\n",
              "  <thead>\n",
              "    <tr style=\"text-align: right;\">\n",
              "      <th></th>\n",
              "      <th>user_id</th>\n",
              "      <th>work_id</th>\n",
              "      <th>mark</th>\n",
              "      <th>date</th>\n",
              "    </tr>\n",
              "  </thead>\n",
              "  <tbody>\n",
              "    <tr>\n",
              "      <th>0</th>\n",
              "      <td>48027</td>\n",
              "      <td>103954</td>\n",
              "      <td>10</td>\n",
              "      <td>2010-08-18</td>\n",
              "    </tr>\n",
              "    <tr>\n",
              "      <th>1</th>\n",
              "      <td>61504</td>\n",
              "      <td>103954</td>\n",
              "      <td>10</td>\n",
              "      <td>2017-07-15</td>\n",
              "    </tr>\n",
              "    <tr>\n",
              "      <th>2</th>\n",
              "      <td>192139</td>\n",
              "      <td>103954</td>\n",
              "      <td>10</td>\n",
              "      <td>2021-06-10</td>\n",
              "    </tr>\n",
              "    <tr>\n",
              "      <th>3</th>\n",
              "      <td>118819</td>\n",
              "      <td>103954</td>\n",
              "      <td>10</td>\n",
              "      <td>2014-04-22</td>\n",
              "    </tr>\n",
              "    <tr>\n",
              "      <th>4</th>\n",
              "      <td>71960</td>\n",
              "      <td>103954</td>\n",
              "      <td>10</td>\n",
              "      <td>2012-04-19</td>\n",
              "    </tr>\n",
              "  </tbody>\n",
              "</table>\n",
              "</div>\n",
              "      <button class=\"colab-df-convert\" onclick=\"convertToInteractive('df-4bb89760-23dd-4349-8da1-57778ce2683d')\"\n",
              "              title=\"Convert this dataframe to an interactive table.\"\n",
              "              style=\"display:none;\">\n",
              "        \n",
              "  <svg xmlns=\"http://www.w3.org/2000/svg\" height=\"24px\"viewBox=\"0 0 24 24\"\n",
              "       width=\"24px\">\n",
              "    <path d=\"M0 0h24v24H0V0z\" fill=\"none\"/>\n",
              "    <path d=\"M18.56 5.44l.94 2.06.94-2.06 2.06-.94-2.06-.94-.94-2.06-.94 2.06-2.06.94zm-11 1L8.5 8.5l.94-2.06 2.06-.94-2.06-.94L8.5 2.5l-.94 2.06-2.06.94zm10 10l.94 2.06.94-2.06 2.06-.94-2.06-.94-.94-2.06-.94 2.06-2.06.94z\"/><path d=\"M17.41 7.96l-1.37-1.37c-.4-.4-.92-.59-1.43-.59-.52 0-1.04.2-1.43.59L10.3 9.45l-7.72 7.72c-.78.78-.78 2.05 0 2.83L4 21.41c.39.39.9.59 1.41.59.51 0 1.02-.2 1.41-.59l7.78-7.78 2.81-2.81c.8-.78.8-2.07 0-2.86zM5.41 20L4 18.59l7.72-7.72 1.47 1.35L5.41 20z\"/>\n",
              "  </svg>\n",
              "      </button>\n",
              "      \n",
              "  <style>\n",
              "    .colab-df-container {\n",
              "      display:flex;\n",
              "      flex-wrap:wrap;\n",
              "      gap: 12px;\n",
              "    }\n",
              "\n",
              "    .colab-df-convert {\n",
              "      background-color: #E8F0FE;\n",
              "      border: none;\n",
              "      border-radius: 50%;\n",
              "      cursor: pointer;\n",
              "      display: none;\n",
              "      fill: #1967D2;\n",
              "      height: 32px;\n",
              "      padding: 0 0 0 0;\n",
              "      width: 32px;\n",
              "    }\n",
              "\n",
              "    .colab-df-convert:hover {\n",
              "      background-color: #E2EBFA;\n",
              "      box-shadow: 0px 1px 2px rgba(60, 64, 67, 0.3), 0px 1px 3px 1px rgba(60, 64, 67, 0.15);\n",
              "      fill: #174EA6;\n",
              "    }\n",
              "\n",
              "    [theme=dark] .colab-df-convert {\n",
              "      background-color: #3B4455;\n",
              "      fill: #D2E3FC;\n",
              "    }\n",
              "\n",
              "    [theme=dark] .colab-df-convert:hover {\n",
              "      background-color: #434B5C;\n",
              "      box-shadow: 0px 1px 3px 1px rgba(0, 0, 0, 0.15);\n",
              "      filter: drop-shadow(0px 1px 2px rgba(0, 0, 0, 0.3));\n",
              "      fill: #FFFFFF;\n",
              "    }\n",
              "  </style>\n",
              "\n",
              "      <script>\n",
              "        const buttonEl =\n",
              "          document.querySelector('#df-4bb89760-23dd-4349-8da1-57778ce2683d button.colab-df-convert');\n",
              "        buttonEl.style.display =\n",
              "          google.colab.kernel.accessAllowed ? 'block' : 'none';\n",
              "\n",
              "        async function convertToInteractive(key) {\n",
              "          const element = document.querySelector('#df-4bb89760-23dd-4349-8da1-57778ce2683d');\n",
              "          const dataTable =\n",
              "            await google.colab.kernel.invokeFunction('convertToInteractive',\n",
              "                                                     [key], {});\n",
              "          if (!dataTable) return;\n",
              "\n",
              "          const docLinkHtml = 'Like what you see? Visit the ' +\n",
              "            '<a target=\"_blank\" href=https://colab.research.google.com/notebooks/data_table.ipynb>data table notebook</a>'\n",
              "            + ' to learn more about interactive tables.';\n",
              "          element.innerHTML = '';\n",
              "          dataTable['output_type'] = 'display_data';\n",
              "          await google.colab.output.renderOutput(dataTable, element);\n",
              "          const docLink = document.createElement('div');\n",
              "          docLink.innerHTML = docLinkHtml;\n",
              "          element.appendChild(docLink);\n",
              "        }\n",
              "      </script>\n",
              "    </div>\n",
              "  </div>\n",
              "  "
            ]
          },
          "metadata": {},
          "execution_count": 6
        }
      ],
      "source": [
        "# Load marks infos for all the works\n",
        "marks_df = pd.read_csv('data/raw/work_marks.csv.gz', parse_dates=['date'])\n",
        "marks_df.head()"
      ]
    },
    {
      "cell_type": "markdown",
      "metadata": {
        "id": "BP4vp4ntiT_m"
      },
      "source": [
        "# Recommendations\n",
        " "
      ]
    },
    {
      "cell_type": "code",
      "execution_count": null,
      "metadata": {
        "id": "CyJM_f6yb4tu"
      },
      "outputs": [],
      "source": [
        "# recommends by k nearest neighbours\n",
        "def recommend_by_knn(work_name, embeddings, key2index: dict, works_df=works_df):\n",
        "    key = works_df.query(f'work_name == \"{work_name}\"').index.tolist()[0]\n",
        "    index = key2index[f'{key}']\n",
        "    vector = embeddings[int(index)]\n",
        "    if vector.shape[0] != embeddings.shape[1]:\n",
        "        raise ValueError('The vector and the embeddings have different dimensions!')\n",
        "    dist = (embeddings - vector).norm(dim=1)\n",
        "    knn = dist.topk(10, largest=False)\n",
        "    top_k_indices = knn.indices\n",
        "    return works_df.iloc[top_k_indices]['work_name']"
      ]
    },
    {
      "cell_type": "code",
      "execution_count": null,
      "metadata": {
        "colab": {
          "background_save": true
        },
        "id": "ssl1WhyRt8Sj"
      },
      "outputs": [],
      "source": [
        "# load normalized descriptions for linear models \n",
        "with gzip.open('./data/interim/work_descriptions_normalized.json.gz', 'rt') as f:\n",
        "    work_descriptions_normalized = json.load(f)"
      ]
    },
    {
      "cell_type": "code",
      "execution_count": null,
      "metadata": {
        "id": "NVsrRI0AvlTJ"
      },
      "outputs": [],
      "source": [
        "# load unnormalized descriptions for rubert-tiny\n",
        "with gzip.open('./data/interim/work_descriptions_unnormalized.json.gz', 'rt') as f:\n",
        "    work_descriptions_unnormalized = json.load(f)"
      ]
    },
    {
      "cell_type": "markdown",
      "source": [
        "## Linear recommender"
      ],
      "metadata": {
        "id": "sVn-M7LpymPI"
      }
    },
    {
      "cell_type": "code",
      "execution_count": null,
      "metadata": {
        "id": "y7hk9yCAu7Px"
      },
      "outputs": [],
      "source": [
        "tfidf_embs = load_npz('./data/interim/work_tfidf_matrix.npz')"
      ]
    },
    {
      "cell_type": "code",
      "source": [
        "with gzip.open('./data/interim/key2index.json.gz', 'rt') as f:\n",
        "    key2index = json.load(f)"
      ],
      "metadata": {
        "id": "eIAUuIOGtD90"
      },
      "execution_count": null,
      "outputs": []
    },
    {
      "cell_type": "code",
      "source": [
        "with open('./data/interim/LightFmDataset.pkl', 'rb') as f:\n",
        "   fm_dataset = pickle.load(f)"
      ],
      "metadata": {
        "id": "ZZ8Dsa_UByfv"
      },
      "execution_count": null,
      "outputs": []
    },
    {
      "cell_type": "code",
      "source": [
        "lr = LinearRecommender(fm_dataset, tfidf_embs, key2index)\n",
        "preds, labels = get_top_k_predictions_with_labels(lr, fm_dataset.test_data, fm_dataset.train_data)"
      ],
      "metadata": {
        "colab": {
          "base_uri": "https://localhost:8080/",
          "height": 49,
          "referenced_widgets": [
            "79726d188dc04b379c01e7ee2ddb94a9",
            "17918d943836482c89384ee5f43721a0",
            "2fa816e31104426689d977d6cdf988a9",
            "680b1e350e2140909b297c980adb6ae0",
            "7da7d0188fca4d999c8bb20c10e2ddd0",
            "1a8588178ca44c95b5a36e682ccf88c4",
            "d70b1221831d4736969b56e8691e22d9",
            "42e8101be4b74a9a8b55eff5af626fa1",
            "2a53ff62395a4800815b4cc31f739464",
            "316d94d5cb724448928f39f60d684787",
            "011b6e6616074b3b823cb3563e732fdf"
          ]
        },
        "id": "XA34iUgLoggj",
        "outputId": "cb8f9ec3-f0da-4ab6-bc58-e6f98b70aaa1"
      },
      "execution_count": null,
      "outputs": [
        {
          "output_type": "display_data",
          "data": {
            "text/plain": [
              "  0%|          | 0/212 [00:00<?, ?it/s]"
            ],
            "application/vnd.jupyter.widget-view+json": {
              "version_major": 2,
              "version_minor": 0,
              "model_id": "79726d188dc04b379c01e7ee2ddb94a9"
            }
          },
          "metadata": {}
        }
      ]
    },
    {
      "cell_type": "code",
      "source": [
        "works_df.iloc[preds[1234]].work_name"
      ],
      "metadata": {
        "colab": {
          "base_uri": "https://localhost:8080/"
        },
        "id": "mOfzSD6y0_bU",
        "outputId": "23b5e117-4dad-4656-c720-0100f8f7fc7d"
      },
      "execution_count": null,
      "outputs": [
        {
          "output_type": "execute_result",
          "data": {
            "text/plain": [
              "work_id\n",
              "84840                  Иные песни\n",
              "13092                     Зеркала\n",
              "35734             Год нашей войны\n",
              "76569                400 поганцев\n",
              "1079                    Баскетбол\n",
              "37266     Пространство Откровения\n",
              "176712                     Вампир\n",
              "349375           Народ обреченный\n",
              "479111               Единственная\n",
              "480301     Наперегонки со смертью\n",
              "Name: work_name, dtype: object"
            ]
          },
          "metadata": {},
          "execution_count": 40
        }
      ]
    },
    {
      "cell_type": "markdown",
      "metadata": {
        "id": "nf5uGrokK-PJ"
      },
      "source": [
        "# tfidf"
      ]
    },
    {
      "cell_type": "code",
      "execution_count": null,
      "metadata": {
        "id": "Hb2LDYBd4BRl"
      },
      "outputs": [],
      "source": [
        "tfidf = TfidfVectorizer(min_df=10)"
      ]
    },
    {
      "cell_type": "code",
      "execution_count": null,
      "metadata": {
        "id": "qe1I7bWZO9b2"
      },
      "outputs": [],
      "source": [
        "# recommend function for tfidf using cosine similarity to compare work descriptions \n",
        "# recommends 10 most similar to the chosen one\n",
        "def recommend(work_name, work_descriptions=work_descriptions_normalized,\n",
        "              df=works_df, vectorizer=tfidf):\n",
        "    work_descriptions = [value for key, value in work_descriptions.items()]\n",
        "    recommended_works = []\n",
        "    title_text_features = vectorizer.fit_transform(work_descriptions)\n",
        "    # normalize the features row-by-row to obtain cosine similarities\n",
        "    title_text_features = normalize(title_text_features, norm='l2', axis=1)\n",
        "\n",
        "   \n",
        "    idx = works_df.index.get_loc(works_df.index[works_df['work_name']==work_name][0])\n",
        "    score_series = (title_text_features @ title_text_features[idx].T).toarray()\n",
        "    score_series = pd.Series(np.array([elem[0] for elem in score_series])).sort_values(ascending=False)\n",
        "    top_10_indices = list(score_series.iloc[1:21].index)\n",
        "    recommended_works = df.iloc[top_10_indices].work_name\n",
        "    \n",
        "    return recommended_works"
      ]
    },
    {
      "cell_type": "markdown",
      "metadata": {
        "id": "bdPST05ZwlX_"
      },
      "source": [
        "As we can see, TF-IDF recommends pretty similar works to the given one\n",
        "\n",
        "as far as it can give out similar ones at all"
      ]
    },
    {
      "cell_type": "code",
      "execution_count": null,
      "metadata": {
        "colab": {
          "base_uri": "https://localhost:8080/"
        },
        "id": "dnCShUMRvyZk",
        "outputId": "c9364ffd-bcd0-4a17-ce3f-e5b28b5ebf18"
      },
      "outputs": [
        {
          "data": {
            "text/plain": [
              "work_id\n",
              "3054       Что-то кончается, что-то начинается\n",
              "2985                               Меньшее Зло\n",
              "2973                         Предел возможного\n",
              "10051                                   Нянька\n",
              "13858                                  No Past\n",
              "2978                             Нечто большее\n",
              "2959                           Ведьмак Геральт\n",
              "10039                       Родина безразличия\n",
              "118003                         Ведьмачье слово\n",
              "132233                    Поезд вне расписания\n",
              "491411                              Сезон гроз\n",
              "2986                               Вопрос цены\n",
              "43027                                  Матадор\n",
              "2987                                Край света\n",
              "96915                            Осколок жизни\n",
              "1392537                     Я спас СССР! Том V\n",
              "3231                                    Второй\n",
              "109371             Наполним чаши телескопов...\n",
              "561                        Сказка о Тройке — 1\n",
              "2975                              Вечный огонь\n",
              "Name: work_name, dtype: object"
            ]
          },
          "execution_count": 25,
          "metadata": {},
          "output_type": "execute_result"
        }
      ],
      "source": [
        "recommend('Ведьмак')"
      ]
    },
    {
      "cell_type": "code",
      "execution_count": null,
      "metadata": {
        "colab": {
          "base_uri": "https://localhost:8080/"
        },
        "id": "BvgpwI9nxWoL",
        "outputId": "452ecafe-0035-45dd-f421-86ce9ded69cf"
      },
      "outputs": [
        {
          "data": {
            "text/plain": [
              "work_id\n",
              "1669                 Возвращение Короля\n",
              "3328                   Хроники Хоукмуна\n",
              "79                              Всадник\n",
              "1667                    Братство Кольца\n",
              "436546                    Отцова забота\n",
              "2009      Шкатулка, в которой была Тьма\n",
              "26000               Без пятнадцати семь\n",
              "77051             Возвращение в Форност\n",
              "8150                  Сказочный корабль\n",
              "4730                Келльская пророчица\n",
              "361322            Клинок его Величества\n",
              "59242               Эрагон. Возвращение\n",
              "116055              Колдовская компания\n",
              "1666         Хоббит, или Туда и обратно\n",
              "3746                         Игра теней\n",
              "81378                  Девятая крепость\n",
              "6880            Поведай мне свои печали\n",
              "164350               Серебряный ошейник\n",
              "201142              Метро 2033: К свету\n",
              "65630                   Путь разрушения\n",
              "Name: work_name, dtype: object"
            ]
          },
          "execution_count": 27,
          "metadata": {},
          "output_type": "execute_result"
        }
      ],
      "source": [
        "recommend('Две твердыни')"
      ]
    },
    {
      "cell_type": "code",
      "execution_count": null,
      "metadata": {
        "colab": {
          "base_uri": "https://localhost:8080/"
        },
        "id": "If_3YckJxdMh",
        "outputId": "2e40cda5-8990-4e66-9724-8849c445b973"
      },
      "outputs": [
        {
          "data": {
            "text/plain": [
              "work_id\n",
              "157581                        Замкнутый круг\n",
              "31535                     О дивный новый мир\n",
              "41167                              Перешейцы\n",
              "14268                             В Дономаге\n",
              "5346                          Духовное ружье\n",
              "20222                 Мир, в котором я исчез\n",
              "100061    Если бы я проснулась перед смертью\n",
              "46093                             Сад Адомфы\n",
              "14805                               Имортист\n",
              "8146                 Мир одного дня: Бунтарь\n",
              "23323              «Мне ещё ехать далеко...»\n",
              "235130                      Руигат. Рождение\n",
              "31541                                 Остров\n",
              "81862                              Два врача\n",
              "18622              Кукла, которая делает всё\n",
              "198896                               Зародыш\n",
              "74306                                   Стая\n",
              "12934                           Шесть гениев\n",
              "523631                                      \n",
              "7609           Бледный всадник, Чёрный Валет\n",
              "Name: work_name, dtype: object"
            ]
          },
          "execution_count": 28,
          "metadata": {},
          "output_type": "execute_result"
        }
      ],
      "source": [
        "recommend('1984')"
      ]
    },
    {
      "cell_type": "markdown",
      "metadata": {
        "id": "05PLnVsIKgl0"
      },
      "source": [
        "# rubert-tiny"
      ]
    },
    {
      "cell_type": "code",
      "execution_count": null,
      "metadata": {
        "id": "23GLjU6-jH1B"
      },
      "outputs": [],
      "source": [
        "# Load pretrained distilled BERT for russian language\n",
        "# see https://habr.com/ru/post/562064/\n",
        "bert_tokenizer = AutoTokenizer.from_pretrained(\"cointegrated/rubert-tiny\")\n",
        "bert_model = AutoModel.from_pretrained(\"cointegrated/rubert-tiny\")\n",
        "bert_model.cuda()"
      ]
    },
    {
      "cell_type": "code",
      "execution_count": null,
      "metadata": {
        "id": "ThxNXFo0XXf4"
      },
      "outputs": [],
      "source": [
        "# returns embeddings of unnormalized descriptions\n",
        "def embed_work_text_features_bert(texts, tokenizer=bert_tokenizer, model=bert_model, batch_size=40):\n",
        "    embeddings = []\n",
        "    texts = [value for key, value in texts.items()]\n",
        "    for batch_idx in tqdm(range(0, len(texts), batch_size)):\n",
        "        batch = texts[batch_idx: batch_idx + batch_size]\n",
        "        tokenized_batch = tokenizer(batch, padding='max_length', truncation=True, return_tensors='pt')\n",
        "        with torch.no_grad():\n",
        "            model_output = model(**{key: value.to(model.device) for key, value in tokenized_batch.items()})\n",
        "        model_embeddings = model_output.last_hidden_state[:, 0, :]\n",
        "        model_embeddings = torch.nn.functional.normalize(model_embeddings)\n",
        "        embeddings.append(model_embeddings.cpu().numpy())\n",
        "    # return np.array(embeddings)\n",
        "    return np.concatenate(embeddings)"
      ]
    },
    {
      "cell_type": "code",
      "execution_count": null,
      "metadata": {
        "colab": {
          "base_uri": "https://localhost:8080/",
          "height": 49,
          "referenced_widgets": [
            "9e99fa657a6040f6a5360bbcd1a60c27",
            "01921958a0ae47c38b4094894211b066",
            "f7e96547d0c34043817c45a367dbcdfe",
            "95ba47968660478a8daba06c5dfaf7e5",
            "ca896274733548469b87386d5d1d6427",
            "0fbfd27fd0e0425082ccbb5f8074e28d",
            "139fb8e0689f4757af6bb4cc5182e2c0",
            "b19a1ca8cc0545a5a36326b5aaf60dcd",
            "c6e86494eb2b4810b583210a6eaeafee",
            "3e98d958f7224dcfb2cf077d387b87b2",
            "4fa179617bd9431aae01ff08ed327be0"
          ]
        },
        "id": "tRnIfVboYbe6",
        "outputId": "d3c62440-6c2d-4b68-fbfb-4b04a5354174"
      },
      "outputs": [
        {
          "data": {
            "application/vnd.jupyter.widget-view+json": {
              "model_id": "9e99fa657a6040f6a5360bbcd1a60c27",
              "version_major": 2,
              "version_minor": 0
            },
            "text/plain": [
              "  0%|          | 0/1194 [00:00<?, ?it/s]"
            ]
          },
          "metadata": {},
          "output_type": "display_data"
        }
      ],
      "source": [
        "bert_embeddings = embed_work_text_features_bert(work_descriptions_unnormalized, batch_size=20)"
      ]
    },
    {
      "cell_type": "code",
      "execution_count": null,
      "metadata": {
        "id": "E5m725mzdki-"
      },
      "outputs": [],
      "source": [
        "bert_embeddings = torch.tensor(bert_embeddings)"
      ]
    },
    {
      "cell_type": "code",
      "execution_count": null,
      "metadata": {
        "id": "1_5KSERAzOvD"
      },
      "outputs": [],
      "source": [
        "with gzip.open('./data/interim/key2index.json.gz', 'rt') as f:\n",
        "    key2index = json.load(f)"
      ]
    },
    {
      "cell_type": "markdown",
      "metadata": {
        "id": "3WUklEbl3cpi"
      },
      "source": [
        "Here little BERT shows rather poor results"
      ]
    },
    {
      "cell_type": "code",
      "execution_count": null,
      "metadata": {
        "colab": {
          "base_uri": "https://localhost:8080/"
        },
        "id": "0dDr5LEazFLr",
        "outputId": "aea06ee8-6c37-4c8d-f740-8448dfb835a1"
      },
      "outputs": [
        {
          "name": "stdout",
          "output_type": "stream",
          "text": [
            "tensor([0.0000, 0.2993, 0.3035, 0.3069, 0.3086])\n"
          ]
        },
        {
          "data": {
            "text/plain": [
              "work_id\n",
              "2983                                         Ведьмак\n",
              "192058                            Магическая страсть\n",
              "77678                                          Дуэль\n",
              "46556                                Арканарский вор\n",
              "596017                                 Петрушкин Лог\n",
              "166491                                   Дети Ашшура\n",
              "1343                                         Дачники\n",
              "259260                                       Туннели\n",
              "146292                           Ниал из Земли Ветра\n",
              "680262    Хозяйка Серых земель. Капкан на волкодлака\n",
              "Name: work_name, dtype: object"
            ]
          },
          "execution_count": 86,
          "metadata": {},
          "output_type": "execute_result"
        }
      ],
      "source": [
        "recommend_by_knn('Ведьмак', bert_embeddings, key2index)"
      ]
    },
    {
      "cell_type": "markdown",
      "metadata": {
        "id": "in_Sd_c0J6D6"
      },
      "source": [
        "# Navec\n"
      ]
    },
    {
      "cell_type": "code",
      "execution_count": null,
      "metadata": {
        "id": "adbMQq1NIFmA"
      },
      "outputs": [],
      "source": [
        "! wget https://storage.yandexcloud.net/natasha-navec/packs/navec_hudlit_v1_12B_500K_300d_100q.tar\n",
        "! pip install navec\n",
        "! pip install navec slovnet\n",
        "from navec import Navec\n",
        "from slovnet.model.emb import NavecEmbedding"
      ]
    },
    {
      "cell_type": "code",
      "execution_count": null,
      "metadata": {
        "id": "iRhOVa-SISAp"
      },
      "outputs": [],
      "source": [
        "navec = Navec.load('./navec_hudlit_v1_12B_500K_300d_100q.tar')\n",
        "emb = NavecEmbedding(navec)"
      ]
    },
    {
      "cell_type": "code",
      "execution_count": null,
      "metadata": {
        "id": "ObfsWYa2GZil"
      },
      "outputs": [],
      "source": [
        "def embed_with_navec(embs, texts):\n",
        "    tokenized_texts = []\n",
        "    for text in tqdm(texts):\n",
        "      token_ids = [navec.vocab.get(word, navec.vocab.unk_id) for word in text]\n",
        "      tokenized_texts.append(token_ids)\n",
        "    tokenized_texts = [text[:120] for text in tokenized_texts]\n",
        "    pad_ind = navec.vocab.get('<pad>')\n",
        "    tokenized_texts = np.array([np.pad(text, (0, 120 - len(text)), 'constant', constant_values=[pad_ind]) for text in tokenized_texts])\n",
        "    tokenized_texts = torch.tensor(tokenized_texts)\n",
        "    embeddings = [embs(tokenized_text).mean(axis=0).cpu().numpy() for tokenized_text in tqdm(tokenized_texts)]\n",
        "    return embeddings"
      ]
    },
    {
      "cell_type": "code",
      "execution_count": null,
      "metadata": {
        "colab": {
          "base_uri": "https://localhost:8080/",
          "height": 81,
          "referenced_widgets": [
            "6575aef160c94d4c8cfe1b1fa0e96501",
            "b278001a0ff04be683aec723465f4de6",
            "f9a9d166744d45ffbbcf44b96bd9df32",
            "d025ee3860934f96933fe5664874e67f",
            "b108ea66bb654d398ae0600e9dac4e92",
            "303d61caad6947b785a33028bb64c2f1",
            "5cccb8a056be4eb4a3d2de912c9616c7",
            "79bd2b0187844956b7ae5f66c8b02a73",
            "7f65f3bc85bd4269a0a81cc1eb6353b2",
            "4d5daf8e430b41d38813a0c56c403cdd",
            "e259fd0960d9488693eef8483d2a6c6b",
            "a60db61a25e1420b9d349d2c06174e1c",
            "3c4ecdf41337407b8d2f2955120b6d91",
            "6bf41ec05fa04e3fb14b7364542650be",
            "a73e319c2608407784592fb1d676d202",
            "54c8356bc9e9494faf086ccbb5a57b8c",
            "8899616e594f465fb2b33e0d347696bc",
            "be1e96d1bb0e4866b6f12c73dbc6ad31",
            "6b32b013d53a4db0a5b55e79f5e1174b",
            "c224a504db2c498893a96b73bfe0f265",
            "bcd1951c94b64c9fb4143d88ba9839fa",
            "dc3511348b104b5fb7d484d2b7f9d3f2"
          ]
        },
        "id": "gEBHvLPHQE8Y",
        "outputId": "897105ab-998f-40c0-d020-45b3c839f40a"
      },
      "outputs": [
        {
          "data": {
            "application/vnd.jupyter.widget-view+json": {
              "model_id": "6575aef160c94d4c8cfe1b1fa0e96501",
              "version_major": 2,
              "version_minor": 0
            },
            "text/plain": [
              "  0%|          | 0/23867 [00:00<?, ?it/s]"
            ]
          },
          "metadata": {},
          "output_type": "display_data"
        },
        {
          "data": {
            "application/vnd.jupyter.widget-view+json": {
              "model_id": "a60db61a25e1420b9d349d2c06174e1c",
              "version_major": 2,
              "version_minor": 0
            },
            "text/plain": [
              "  0%|          | 0/23867 [00:00<?, ?it/s]"
            ]
          },
          "metadata": {},
          "output_type": "display_data"
        }
      ],
      "source": [
        "navec_embeddings = embed_with_navec(emb, work_descriptions_normalized)"
      ]
    },
    {
      "cell_type": "code",
      "execution_count": null,
      "metadata": {
        "id": "v-a580jHZMdz"
      },
      "outputs": [],
      "source": [
        "navec_embeddings = torch.tensor(navec_embeddings)"
      ]
    },
    {
      "cell_type": "code",
      "execution_count": null,
      "metadata": {
        "id": "c1aowCwg39_t"
      },
      "outputs": [],
      "source": [
        "with gzip.open('./data/interim/key2index.json.gz', 'rt') as f:\n",
        "    key2index = json.load(f)"
      ]
    },
    {
      "cell_type": "markdown",
      "metadata": {
        "id": "G0C34pMn39_v"
      },
      "source": [
        "It seems that navec pretrained embeddings work better than BERT\n",
        "\n",
        "but they are still much worse than TF-IDF"
      ]
    },
    {
      "cell_type": "code",
      "execution_count": null,
      "metadata": {
        "colab": {
          "base_uri": "https://localhost:8080/"
        },
        "id": "x_1mnTQ239_w",
        "outputId": "e3b2fa70-ce1d-4d66-f2b6-e459ce7a2085"
      },
      "outputs": [
        {
          "name": "stdout",
          "output_type": "stream",
          "text": [
            "tensor([0., 0., 0., 0., 0.])\n"
          ]
        },
        {
          "data": {
            "text/plain": [
              "work_id\n",
              "6011       За железной дверью\n",
              "4023              Меч неверия\n",
              "7293            Давние потери\n",
              "1971                         \n",
              "3590              Принц крови\n",
              "3962            Сказительница\n",
              "4774       Глина господа бога\n",
              "1782        Повелитель кольца\n",
              "7939    Банка фруктового сока\n",
              "7862       Господа альбатросы\n",
              "Name: work_name, dtype: object"
            ]
          },
          "execution_count": 95,
          "metadata": {},
          "output_type": "execute_result"
        }
      ],
      "source": [
        "recommend_by_knn('Ведьмак', navec_embeddings, key2index)"
      ]
    },
    {
      "cell_type": "markdown",
      "metadata": {
        "id": "j2rlogORKEJ8"
      },
      "source": [
        "# Doc2Vec"
      ]
    },
    {
      "cell_type": "code",
      "execution_count": null,
      "metadata": {
        "id": "-0i8WW-4iQlQ"
      },
      "outputs": [],
      "source": [
        "# Load item categorical features obtained from works_df with \n",
        "# item_featires_buildup.py\n",
        "with gzip.open('./data/raw/item_features.json.gz', 'rt') as f:\n",
        "    item_features = json.load(f)"
      ]
    },
    {
      "cell_type": "code",
      "execution_count": null,
      "metadata": {
        "id": "PRQdn73jshJl"
      },
      "outputs": [],
      "source": [
        "# tokenize descriptions\n",
        "work_descriptions_tokenized = {k: v.split() for k, v in work_descriptions_normalized.items()}"
      ]
    },
    {
      "cell_type": "code",
      "execution_count": null,
      "metadata": {
        "id": "f38sOsU3eqBz"
      },
      "outputs": [],
      "source": [
        "# make item features suitable for use in doc2vec.TaggedDocument\n",
        "from collections import defaultdict\n",
        "work_tags = defaultdict(list)\n",
        "for item in item_features:\n",
        "    item_id = item[0]\n",
        "    tag_name = item[2]\n",
        "    work_tags[item_id].append(tag_name)"
      ]
    },
    {
      "cell_type": "code",
      "execution_count": null,
      "metadata": {
        "id": "HPGad0wGttaZ"
      },
      "outputs": [],
      "source": [
        "# make the dstasets for Doc2Vec \n",
        "train_data = [gensim.models.doc2vec.TaggedDocument(value, [key]) for key, value in work_descriptions_tokenized.items()]\n",
        "train_data_tagged = [gensim.models.doc2vec.TaggedDocument(value, [key] + work_tags[key]) for key, value in work_descriptions_tokenized.items()]"
      ]
    },
    {
      "cell_type": "code",
      "execution_count": null,
      "metadata": {
        "id": "Zp7cddaAxjVD"
      },
      "outputs": [],
      "source": [
        "model_params = {'vector_size': 50, 'min_count':10, \n",
        "               'epochs':20, 'workers': 2} \n",
        "\n",
        "\n",
        "model = gensim.models.doc2vec.Doc2Vec(**model_params)\n",
        "model.build_vocab(train_data, progress_per=10000)\n",
        "\n",
        "model.train(train_data, total_examples=model.corpus_count, epochs=model.epochs)"
      ]
    },
    {
      "cell_type": "markdown",
      "metadata": {
        "id": "2peGysJX522K"
      },
      "source": [
        "Doc2Vec also does not give us similar to given works, looks very strange"
      ]
    },
    {
      "cell_type": "code",
      "execution_count": null,
      "metadata": {
        "id": "RpGDZEgAB0ek"
      },
      "outputs": [],
      "source": [
        "work_vector = model.infer_vector(work_descriptions_tokenized['2965'], epochs=1000)\n",
        "# model_.dv = model.__dict__['docvecs'] # need to use if gensim is downloaded by Colab's default \n",
        "                                        # ver 3.6.0 instead of actual 4.2.0\n",
        "                                        \n",
        "most_similar = model.dv.most_similar([work_vector], topn=len(model.dv))\n",
        "most_similar_idx = [item_id for item_id, score in most_similar if item_id in work_descriptions_tokenized]\n",
        "works_df.loc[most_similar_idx[:10]]"
      ]
    },
    {
      "cell_type": "code",
      "execution_count": null,
      "metadata": {
        "id": "k31uLPQzV7ln"
      },
      "outputs": [],
      "source": [
        "def make_doc2vec_embs(data: dict, tags: dict = None,\n",
        "                      model_params: dict={'vector_size': 120, 'min_count':10, \n",
        "                                          'epochs':1, 'workers': 2}, \n",
        "                      infer_params: dict={'epochs': 1}):\n",
        "\n",
        "    if tags is not None:\n",
        "        train_data = [gensim.models.doc2vec.TaggedDocument(data[key], tags[key]) for key in data.keys()]\n",
        "    else:\n",
        "        train_data = [gensim.models.doc2vec.TaggedDocument(value, [key]) for key, value in data.items()]\n",
        "\n",
        "    print('Training model...\\n')\n",
        "    model = gensim.models.doc2vec.Doc2Vec(**model_params)\n",
        "    # model.dv = model.__dict__['docvecs'] # declare a function which we cannot use by default\n",
        "    model.build_vocab(train_data)\n",
        "    model.train(train_data, total_examples=model.corpus_count, epochs=model.epochs)\n",
        "\n",
        "    print('Building embeddings...')\n",
        "    embeddings = {key: model.infer_vector(doc, **infer_params) for key, doc in tqdm(data.items())}\n",
        "    print(f'Embeddings for {len(embeddings)} works built')\n",
        "\n",
        "    return embeddings"
      ]
    },
    {
      "cell_type": "code",
      "execution_count": null,
      "metadata": {
        "id": "rJWCunSocl8F"
      },
      "outputs": [],
      "source": [
        "d2v_embs = make_doc2vec_embs(work_descriptions_tokenized, work_tags)"
      ]
    },
    {
      "cell_type": "markdown",
      "metadata": {
        "id": "xa64yMSPA0Jh"
      },
      "source": [
        "# word2vec"
      ]
    },
    {
      "cell_type": "code",
      "execution_count": null,
      "metadata": {
        "id": "kwISFUzSA2Al"
      },
      "outputs": [],
      "source": [
        "from gensim.models import Word2Vec"
      ]
    },
    {
      "cell_type": "code",
      "execution_count": null,
      "metadata": {
        "id": "7SheFqFRFFmi"
      },
      "outputs": [],
      "source": [
        "model__ = Word2Vec(work_descriptions_normalized, **model_params)"
      ]
    },
    {
      "cell_type": "code",
      "execution_count": null,
      "metadata": {
        "id": "qj0QNNrRBLrb"
      },
      "outputs": [],
      "source": [
        "def make_word2vec_embs(data: dict,\n",
        "                      model_params: dict={'vector_size':0, 'window':5, \n",
        "                                          'min_count':10, 'workers': 2},\n",
        "                      train_params={'epochs':40}):\n",
        "\n",
        "\n",
        "    train_data = [value for key, value in data.items()]\n",
        "    print('Training model...\\n')\n",
        "    model = gensim.models.Word2Vec(train_data, **model_params)\n",
        "    model.train(train_data, total_examples=model.corpus_count, **train_params)\n",
        "\n",
        "    print('Building embeddings...')\n",
        "    embeddings = {key: [model.wv[word] for word in doc if word in model.wv] for key, doc in tqdm(data.items())}\n",
        "\n",
        "    print(f'Embeddings for {len(embeddings)} works built')\n",
        "\n",
        "    return embeddings\n"
      ]
    },
    {
      "cell_type": "code",
      "execution_count": null,
      "metadata": {
        "colab": {
          "base_uri": "https://localhost:8080/",
          "height": 694,
          "referenced_widgets": [
            "c567d744ad1544b49b12550269aca522",
            "712b4172f08a4ca089753818527c435d",
            "7ebbf968b2bc490089252ecdae0b638a",
            "bbb07aa6d6794be2bc7d9e9bf9f31e69",
            "79f6bc52e38c4fada84422eb2687b183",
            "b8c8183b453641809782ffc373c68590",
            "a1aa34af20ca47b0976668ec1e71c77b",
            "7c0ff3790251406c99ef5bd22a63c45c",
            "8ffe90e8a63641078b81cfde286fb6d1",
            "095b30f6aaa4461ca7190e51f9f15b73",
            "214d76bdde9343329ad5e18011a0cfb3"
          ]
        },
        "id": "sBnqRxNOCxDc",
        "outputId": "dbfb0e97-3dbc-4f3a-e47f-909dd3dee531"
      },
      "outputs": [
        {
          "name": "stderr",
          "output_type": "stream",
          "text": [
            "2022-05-22 05:04:10,390 : INFO : collecting all words and their counts\n",
            "2022-05-22 05:04:10,392 : INFO : PROGRESS: at sentence #0, processed 0 words, keeping 0 word types\n",
            "2022-05-22 05:04:10,509 : INFO : PROGRESS: at sentence #10000, processed 366926 words, keeping 39523 word types\n"
          ]
        },
        {
          "name": "stdout",
          "output_type": "stream",
          "text": [
            "Training model...\n",
            "\n"
          ]
        },
        {
          "name": "stderr",
          "output_type": "stream",
          "text": [
            "2022-05-22 05:04:10,637 : INFO : PROGRESS: at sentence #20000, processed 736136 words, keeping 58426 word types\n",
            "2022-05-22 05:04:10,695 : INFO : collected 64475 word types from a corpus of 879656 raw words and 23867 sentences\n",
            "2022-05-22 05:04:10,696 : INFO : Creating a fresh vocabulary\n",
            "2022-05-22 05:04:10,768 : INFO : Word2Vec lifecycle event {'msg': 'effective_min_count=10 retains 9567 unique words (14.84% of original 64475, drops 54908)', 'datetime': '2022-05-22T05:04:10.768615', 'gensim': '4.2.0', 'python': '3.7.13 (default, Apr 24 2022, 01:04:09) \\n[GCC 7.5.0]', 'platform': 'Linux-5.4.188+-x86_64-with-Ubuntu-18.04-bionic', 'event': 'prepare_vocab'}\n",
            "2022-05-22 05:04:10,770 : INFO : Word2Vec lifecycle event {'msg': 'effective_min_count=10 leaves 765559 word corpus (87.03% of original 879656, drops 114097)', 'datetime': '2022-05-22T05:04:10.770349', 'gensim': '4.2.0', 'python': '3.7.13 (default, Apr 24 2022, 01:04:09) \\n[GCC 7.5.0]', 'platform': 'Linux-5.4.188+-x86_64-with-Ubuntu-18.04-bionic', 'event': 'prepare_vocab'}\n",
            "2022-05-22 05:04:10,844 : INFO : deleting the raw counts dictionary of 64475 items\n",
            "2022-05-22 05:04:10,848 : INFO : sample=0.001 downsamples 19 most-common words\n",
            "2022-05-22 05:04:10,850 : INFO : Word2Vec lifecycle event {'msg': 'downsampling leaves estimated 733324.8326722066 word corpus (95.8%% of prior 765559)', 'datetime': '2022-05-22T05:04:10.850018', 'gensim': '4.2.0', 'python': '3.7.13 (default, Apr 24 2022, 01:04:09) \\n[GCC 7.5.0]', 'platform': 'Linux-5.4.188+-x86_64-with-Ubuntu-18.04-bionic', 'event': 'prepare_vocab'}\n",
            "2022-05-22 05:04:10,977 : INFO : estimated required memory for 9567 words and 120 dimensions: 13967820 bytes\n",
            "2022-05-22 05:04:10,978 : INFO : resetting layer weights\n",
            "2022-05-22 05:04:10,997 : INFO : Word2Vec lifecycle event {'update': False, 'trim_rule': 'None', 'datetime': '2022-05-22T05:04:10.997186', 'gensim': '4.2.0', 'python': '3.7.13 (default, Apr 24 2022, 01:04:09) \\n[GCC 7.5.0]', 'platform': 'Linux-5.4.188+-x86_64-with-Ubuntu-18.04-bionic', 'event': 'build_vocab'}\n",
            "2022-05-22 05:04:11,000 : INFO : Word2Vec lifecycle event {'msg': 'training model with 2 workers on 9567 vocabulary and 120 features, using sg=0 hs=0 sample=0.001 negative=5 window=5 shrink_windows=True', 'datetime': '2022-05-22T05:04:11.000612', 'gensim': '4.2.0', 'python': '3.7.13 (default, Apr 24 2022, 01:04:09) \\n[GCC 7.5.0]', 'platform': 'Linux-5.4.188+-x86_64-with-Ubuntu-18.04-bionic', 'event': 'train'}\n",
            "2022-05-22 05:04:12,024 : INFO : EPOCH 0 - PROGRESS: at 55.87% examples, 402710 words/s, in_qsize 3, out_qsize 0\n",
            "2022-05-22 05:04:12,819 : INFO : EPOCH 0: training on 879656 raw words (733500 effective words) took 1.8s, 405886 effective words/s\n",
            "2022-05-22 05:04:13,847 : INFO : EPOCH 1 - PROGRESS: at 54.74% examples, 391231 words/s, in_qsize 3, out_qsize 0\n",
            "2022-05-22 05:04:14,639 : INFO : EPOCH 1: training on 879656 raw words (733332 effective words) took 1.8s, 404397 effective words/s\n",
            "2022-05-22 05:04:15,663 : INFO : EPOCH 2 - PROGRESS: at 56.99% examples, 408314 words/s, in_qsize 3, out_qsize 0\n",
            "2022-05-22 05:04:16,410 : INFO : EPOCH 2: training on 879656 raw words (732972 effective words) took 1.8s, 415252 effective words/s\n",
            "2022-05-22 05:04:17,421 : INFO : EPOCH 3 - PROGRESS: at 55.87% examples, 406317 words/s, in_qsize 3, out_qsize 0\n",
            "2022-05-22 05:04:18,187 : INFO : EPOCH 3: training on 879656 raw words (733250 effective words) took 1.8s, 414557 effective words/s\n",
            "2022-05-22 05:04:19,207 : INFO : EPOCH 4 - PROGRESS: at 55.85% examples, 402356 words/s, in_qsize 3, out_qsize 0\n",
            "2022-05-22 05:04:19,987 : INFO : EPOCH 4: training on 879656 raw words (733221 effective words) took 1.8s, 409135 effective words/s\n",
            "2022-05-22 05:04:19,988 : INFO : Word2Vec lifecycle event {'msg': 'training on 4398280 raw words (3666275 effective words) took 9.0s, 408006 effective words/s', 'datetime': '2022-05-22T05:04:19.988944', 'gensim': '4.2.0', 'python': '3.7.13 (default, Apr 24 2022, 01:04:09) \\n[GCC 7.5.0]', 'platform': 'Linux-5.4.188+-x86_64-with-Ubuntu-18.04-bionic', 'event': 'train'}\n",
            "2022-05-22 05:04:19,990 : INFO : Word2Vec lifecycle event {'params': 'Word2Vec<vocab=9567, vector_size=120, alpha=0.025>', 'datetime': '2022-05-22T05:04:19.990390', 'gensim': '4.2.0', 'python': '3.7.13 (default, Apr 24 2022, 01:04:09) \\n[GCC 7.5.0]', 'platform': 'Linux-5.4.188+-x86_64-with-Ubuntu-18.04-bionic', 'event': 'created'}\n",
            "2022-05-22 05:04:19,991 : WARNING : Effective 'alpha' higher than previous training cycles\n",
            "2022-05-22 05:04:19,994 : INFO : Word2Vec lifecycle event {'msg': 'training model with 2 workers on 9567 vocabulary and 120 features, using sg=0 hs=0 sample=0.001 negative=5 window=5 shrink_windows=True', 'datetime': '2022-05-22T05:04:19.994067', 'gensim': '4.2.0', 'python': '3.7.13 (default, Apr 24 2022, 01:04:09) \\n[GCC 7.5.0]', 'platform': 'Linux-5.4.188+-x86_64-with-Ubuntu-18.04-bionic', 'event': 'train'}\n",
            "2022-05-22 05:04:21,024 : INFO : EPOCH 0 - PROGRESS: at 55.87% examples, 399385 words/s, in_qsize 2, out_qsize 1\n",
            "2022-05-22 05:04:21,795 : INFO : EPOCH 0: training on 879656 raw words (733259 effective words) took 1.8s, 409107 effective words/s\n",
            "2022-05-22 05:04:21,797 : INFO : Word2Vec lifecycle event {'msg': 'training on 879656 raw words (733259 effective words) took 1.8s, 406832 effective words/s', 'datetime': '2022-05-22T05:04:21.797902', 'gensim': '4.2.0', 'python': '3.7.13 (default, Apr 24 2022, 01:04:09) \\n[GCC 7.5.0]', 'platform': 'Linux-5.4.188+-x86_64-with-Ubuntu-18.04-bionic', 'event': 'train'}\n"
          ]
        },
        {
          "name": "stdout",
          "output_type": "stream",
          "text": [
            "Building embeddings...\n"
          ]
        },
        {
          "data": {
            "application/vnd.jupyter.widget-view+json": {
              "model_id": "c567d744ad1544b49b12550269aca522",
              "version_major": 2,
              "version_minor": 0
            },
            "text/plain": [
              "  0%|          | 0/23867 [00:00<?, ?it/s]"
            ]
          },
          "metadata": {},
          "output_type": "display_data"
        },
        {
          "name": "stdout",
          "output_type": "stream",
          "text": [
            "Embeddings for 23867 works built\n"
          ]
        }
      ],
      "source": [
        "w2v_embs = make_word2vec_embs(work_descriptions_tokenized)"
      ]
    }
  ],
  "metadata": {
    "colab": {
      "collapsed_sections": [
        "KCu0P8q4g-Y4"
      ],
      "name": "content",
      "provenance": []
    },
    "kernelspec": {
      "display_name": "Python 3",
      "name": "python3"
    },
    "language_info": {
      "name": "python"
    },
    "widgets": {
      "application/vnd.jupyter.widget-state+json": {
        "01921958a0ae47c38b4094894211b066": {
          "model_module": "@jupyter-widgets/controls",
          "model_module_version": "1.5.0",
          "model_name": "HTMLModel",
          "state": {
            "_dom_classes": [],
            "_model_module": "@jupyter-widgets/controls",
            "_model_module_version": "1.5.0",
            "_model_name": "HTMLModel",
            "_view_count": null,
            "_view_module": "@jupyter-widgets/controls",
            "_view_module_version": "1.5.0",
            "_view_name": "HTMLView",
            "description": "",
            "description_tooltip": null,
            "layout": "IPY_MODEL_0fbfd27fd0e0425082ccbb5f8074e28d",
            "placeholder": "​",
            "style": "IPY_MODEL_139fb8e0689f4757af6bb4cc5182e2c0",
            "value": "100%"
          }
        },
        "095b30f6aaa4461ca7190e51f9f15b73": {
          "model_module": "@jupyter-widgets/base",
          "model_module_version": "1.2.0",
          "model_name": "LayoutModel",
          "state": {
            "_model_module": "@jupyter-widgets/base",
            "_model_module_version": "1.2.0",
            "_model_name": "LayoutModel",
            "_view_count": null,
            "_view_module": "@jupyter-widgets/base",
            "_view_module_version": "1.2.0",
            "_view_name": "LayoutView",
            "align_content": null,
            "align_items": null,
            "align_self": null,
            "border": null,
            "bottom": null,
            "display": null,
            "flex": null,
            "flex_flow": null,
            "grid_area": null,
            "grid_auto_columns": null,
            "grid_auto_flow": null,
            "grid_auto_rows": null,
            "grid_column": null,
            "grid_gap": null,
            "grid_row": null,
            "grid_template_areas": null,
            "grid_template_columns": null,
            "grid_template_rows": null,
            "height": null,
            "justify_content": null,
            "justify_items": null,
            "left": null,
            "margin": null,
            "max_height": null,
            "max_width": null,
            "min_height": null,
            "min_width": null,
            "object_fit": null,
            "object_position": null,
            "order": null,
            "overflow": null,
            "overflow_x": null,
            "overflow_y": null,
            "padding": null,
            "right": null,
            "top": null,
            "visibility": null,
            "width": null
          }
        },
        "0fbfd27fd0e0425082ccbb5f8074e28d": {
          "model_module": "@jupyter-widgets/base",
          "model_module_version": "1.2.0",
          "model_name": "LayoutModel",
          "state": {
            "_model_module": "@jupyter-widgets/base",
            "_model_module_version": "1.2.0",
            "_model_name": "LayoutModel",
            "_view_count": null,
            "_view_module": "@jupyter-widgets/base",
            "_view_module_version": "1.2.0",
            "_view_name": "LayoutView",
            "align_content": null,
            "align_items": null,
            "align_self": null,
            "border": null,
            "bottom": null,
            "display": null,
            "flex": null,
            "flex_flow": null,
            "grid_area": null,
            "grid_auto_columns": null,
            "grid_auto_flow": null,
            "grid_auto_rows": null,
            "grid_column": null,
            "grid_gap": null,
            "grid_row": null,
            "grid_template_areas": null,
            "grid_template_columns": null,
            "grid_template_rows": null,
            "height": null,
            "justify_content": null,
            "justify_items": null,
            "left": null,
            "margin": null,
            "max_height": null,
            "max_width": null,
            "min_height": null,
            "min_width": null,
            "object_fit": null,
            "object_position": null,
            "order": null,
            "overflow": null,
            "overflow_x": null,
            "overflow_y": null,
            "padding": null,
            "right": null,
            "top": null,
            "visibility": null,
            "width": null
          }
        },
        "139fb8e0689f4757af6bb4cc5182e2c0": {
          "model_module": "@jupyter-widgets/controls",
          "model_module_version": "1.5.0",
          "model_name": "DescriptionStyleModel",
          "state": {
            "_model_module": "@jupyter-widgets/controls",
            "_model_module_version": "1.5.0",
            "_model_name": "DescriptionStyleModel",
            "_view_count": null,
            "_view_module": "@jupyter-widgets/base",
            "_view_module_version": "1.2.0",
            "_view_name": "StyleView",
            "description_width": ""
          }
        },
        "214d76bdde9343329ad5e18011a0cfb3": {
          "model_module": "@jupyter-widgets/controls",
          "model_module_version": "1.5.0",
          "model_name": "DescriptionStyleModel",
          "state": {
            "_model_module": "@jupyter-widgets/controls",
            "_model_module_version": "1.5.0",
            "_model_name": "DescriptionStyleModel",
            "_view_count": null,
            "_view_module": "@jupyter-widgets/base",
            "_view_module_version": "1.2.0",
            "_view_name": "StyleView",
            "description_width": ""
          }
        },
        "303d61caad6947b785a33028bb64c2f1": {
          "model_module": "@jupyter-widgets/base",
          "model_module_version": "1.2.0",
          "model_name": "LayoutModel",
          "state": {
            "_model_module": "@jupyter-widgets/base",
            "_model_module_version": "1.2.0",
            "_model_name": "LayoutModel",
            "_view_count": null,
            "_view_module": "@jupyter-widgets/base",
            "_view_module_version": "1.2.0",
            "_view_name": "LayoutView",
            "align_content": null,
            "align_items": null,
            "align_self": null,
            "border": null,
            "bottom": null,
            "display": null,
            "flex": null,
            "flex_flow": null,
            "grid_area": null,
            "grid_auto_columns": null,
            "grid_auto_flow": null,
            "grid_auto_rows": null,
            "grid_column": null,
            "grid_gap": null,
            "grid_row": null,
            "grid_template_areas": null,
            "grid_template_columns": null,
            "grid_template_rows": null,
            "height": null,
            "justify_content": null,
            "justify_items": null,
            "left": null,
            "margin": null,
            "max_height": null,
            "max_width": null,
            "min_height": null,
            "min_width": null,
            "object_fit": null,
            "object_position": null,
            "order": null,
            "overflow": null,
            "overflow_x": null,
            "overflow_y": null,
            "padding": null,
            "right": null,
            "top": null,
            "visibility": null,
            "width": null
          }
        },
        "3c4ecdf41337407b8d2f2955120b6d91": {
          "model_module": "@jupyter-widgets/controls",
          "model_module_version": "1.5.0",
          "model_name": "HTMLModel",
          "state": {
            "_dom_classes": [],
            "_model_module": "@jupyter-widgets/controls",
            "_model_module_version": "1.5.0",
            "_model_name": "HTMLModel",
            "_view_count": null,
            "_view_module": "@jupyter-widgets/controls",
            "_view_module_version": "1.5.0",
            "_view_name": "HTMLView",
            "description": "",
            "description_tooltip": null,
            "layout": "IPY_MODEL_8899616e594f465fb2b33e0d347696bc",
            "placeholder": "​",
            "style": "IPY_MODEL_be1e96d1bb0e4866b6f12c73dbc6ad31",
            "value": "100%"
          }
        },
        "3e98d958f7224dcfb2cf077d387b87b2": {
          "model_module": "@jupyter-widgets/base",
          "model_module_version": "1.2.0",
          "model_name": "LayoutModel",
          "state": {
            "_model_module": "@jupyter-widgets/base",
            "_model_module_version": "1.2.0",
            "_model_name": "LayoutModel",
            "_view_count": null,
            "_view_module": "@jupyter-widgets/base",
            "_view_module_version": "1.2.0",
            "_view_name": "LayoutView",
            "align_content": null,
            "align_items": null,
            "align_self": null,
            "border": null,
            "bottom": null,
            "display": null,
            "flex": null,
            "flex_flow": null,
            "grid_area": null,
            "grid_auto_columns": null,
            "grid_auto_flow": null,
            "grid_auto_rows": null,
            "grid_column": null,
            "grid_gap": null,
            "grid_row": null,
            "grid_template_areas": null,
            "grid_template_columns": null,
            "grid_template_rows": null,
            "height": null,
            "justify_content": null,
            "justify_items": null,
            "left": null,
            "margin": null,
            "max_height": null,
            "max_width": null,
            "min_height": null,
            "min_width": null,
            "object_fit": null,
            "object_position": null,
            "order": null,
            "overflow": null,
            "overflow_x": null,
            "overflow_y": null,
            "padding": null,
            "right": null,
            "top": null,
            "visibility": null,
            "width": null
          }
        },
        "4d5daf8e430b41d38813a0c56c403cdd": {
          "model_module": "@jupyter-widgets/base",
          "model_module_version": "1.2.0",
          "model_name": "LayoutModel",
          "state": {
            "_model_module": "@jupyter-widgets/base",
            "_model_module_version": "1.2.0",
            "_model_name": "LayoutModel",
            "_view_count": null,
            "_view_module": "@jupyter-widgets/base",
            "_view_module_version": "1.2.0",
            "_view_name": "LayoutView",
            "align_content": null,
            "align_items": null,
            "align_self": null,
            "border": null,
            "bottom": null,
            "display": null,
            "flex": null,
            "flex_flow": null,
            "grid_area": null,
            "grid_auto_columns": null,
            "grid_auto_flow": null,
            "grid_auto_rows": null,
            "grid_column": null,
            "grid_gap": null,
            "grid_row": null,
            "grid_template_areas": null,
            "grid_template_columns": null,
            "grid_template_rows": null,
            "height": null,
            "justify_content": null,
            "justify_items": null,
            "left": null,
            "margin": null,
            "max_height": null,
            "max_width": null,
            "min_height": null,
            "min_width": null,
            "object_fit": null,
            "object_position": null,
            "order": null,
            "overflow": null,
            "overflow_x": null,
            "overflow_y": null,
            "padding": null,
            "right": null,
            "top": null,
            "visibility": null,
            "width": null
          }
        },
        "4fa179617bd9431aae01ff08ed327be0": {
          "model_module": "@jupyter-widgets/controls",
          "model_module_version": "1.5.0",
          "model_name": "DescriptionStyleModel",
          "state": {
            "_model_module": "@jupyter-widgets/controls",
            "_model_module_version": "1.5.0",
            "_model_name": "DescriptionStyleModel",
            "_view_count": null,
            "_view_module": "@jupyter-widgets/base",
            "_view_module_version": "1.2.0",
            "_view_name": "StyleView",
            "description_width": ""
          }
        },
        "54c8356bc9e9494faf086ccbb5a57b8c": {
          "model_module": "@jupyter-widgets/base",
          "model_module_version": "1.2.0",
          "model_name": "LayoutModel",
          "state": {
            "_model_module": "@jupyter-widgets/base",
            "_model_module_version": "1.2.0",
            "_model_name": "LayoutModel",
            "_view_count": null,
            "_view_module": "@jupyter-widgets/base",
            "_view_module_version": "1.2.0",
            "_view_name": "LayoutView",
            "align_content": null,
            "align_items": null,
            "align_self": null,
            "border": null,
            "bottom": null,
            "display": null,
            "flex": null,
            "flex_flow": null,
            "grid_area": null,
            "grid_auto_columns": null,
            "grid_auto_flow": null,
            "grid_auto_rows": null,
            "grid_column": null,
            "grid_gap": null,
            "grid_row": null,
            "grid_template_areas": null,
            "grid_template_columns": null,
            "grid_template_rows": null,
            "height": null,
            "justify_content": null,
            "justify_items": null,
            "left": null,
            "margin": null,
            "max_height": null,
            "max_width": null,
            "min_height": null,
            "min_width": null,
            "object_fit": null,
            "object_position": null,
            "order": null,
            "overflow": null,
            "overflow_x": null,
            "overflow_y": null,
            "padding": null,
            "right": null,
            "top": null,
            "visibility": null,
            "width": null
          }
        },
        "5cccb8a056be4eb4a3d2de912c9616c7": {
          "model_module": "@jupyter-widgets/controls",
          "model_module_version": "1.5.0",
          "model_name": "DescriptionStyleModel",
          "state": {
            "_model_module": "@jupyter-widgets/controls",
            "_model_module_version": "1.5.0",
            "_model_name": "DescriptionStyleModel",
            "_view_count": null,
            "_view_module": "@jupyter-widgets/base",
            "_view_module_version": "1.2.0",
            "_view_name": "StyleView",
            "description_width": ""
          }
        },
        "6575aef160c94d4c8cfe1b1fa0e96501": {
          "model_module": "@jupyter-widgets/controls",
          "model_module_version": "1.5.0",
          "model_name": "HBoxModel",
          "state": {
            "_dom_classes": [],
            "_model_module": "@jupyter-widgets/controls",
            "_model_module_version": "1.5.0",
            "_model_name": "HBoxModel",
            "_view_count": null,
            "_view_module": "@jupyter-widgets/controls",
            "_view_module_version": "1.5.0",
            "_view_name": "HBoxView",
            "box_style": "",
            "children": [
              "IPY_MODEL_b278001a0ff04be683aec723465f4de6",
              "IPY_MODEL_f9a9d166744d45ffbbcf44b96bd9df32",
              "IPY_MODEL_d025ee3860934f96933fe5664874e67f"
            ],
            "layout": "IPY_MODEL_b108ea66bb654d398ae0600e9dac4e92"
          }
        },
        "6b32b013d53a4db0a5b55e79f5e1174b": {
          "model_module": "@jupyter-widgets/base",
          "model_module_version": "1.2.0",
          "model_name": "LayoutModel",
          "state": {
            "_model_module": "@jupyter-widgets/base",
            "_model_module_version": "1.2.0",
            "_model_name": "LayoutModel",
            "_view_count": null,
            "_view_module": "@jupyter-widgets/base",
            "_view_module_version": "1.2.0",
            "_view_name": "LayoutView",
            "align_content": null,
            "align_items": null,
            "align_self": null,
            "border": null,
            "bottom": null,
            "display": null,
            "flex": null,
            "flex_flow": null,
            "grid_area": null,
            "grid_auto_columns": null,
            "grid_auto_flow": null,
            "grid_auto_rows": null,
            "grid_column": null,
            "grid_gap": null,
            "grid_row": null,
            "grid_template_areas": null,
            "grid_template_columns": null,
            "grid_template_rows": null,
            "height": null,
            "justify_content": null,
            "justify_items": null,
            "left": null,
            "margin": null,
            "max_height": null,
            "max_width": null,
            "min_height": null,
            "min_width": null,
            "object_fit": null,
            "object_position": null,
            "order": null,
            "overflow": null,
            "overflow_x": null,
            "overflow_y": null,
            "padding": null,
            "right": null,
            "top": null,
            "visibility": null,
            "width": null
          }
        },
        "6bf41ec05fa04e3fb14b7364542650be": {
          "model_module": "@jupyter-widgets/controls",
          "model_module_version": "1.5.0",
          "model_name": "FloatProgressModel",
          "state": {
            "_dom_classes": [],
            "_model_module": "@jupyter-widgets/controls",
            "_model_module_version": "1.5.0",
            "_model_name": "FloatProgressModel",
            "_view_count": null,
            "_view_module": "@jupyter-widgets/controls",
            "_view_module_version": "1.5.0",
            "_view_name": "ProgressView",
            "bar_style": "success",
            "description": "",
            "description_tooltip": null,
            "layout": "IPY_MODEL_6b32b013d53a4db0a5b55e79f5e1174b",
            "max": 23867,
            "min": 0,
            "orientation": "horizontal",
            "style": "IPY_MODEL_c224a504db2c498893a96b73bfe0f265",
            "value": 23867
          }
        },
        "712b4172f08a4ca089753818527c435d": {
          "model_module": "@jupyter-widgets/controls",
          "model_module_version": "1.5.0",
          "model_name": "HTMLModel",
          "state": {
            "_dom_classes": [],
            "_model_module": "@jupyter-widgets/controls",
            "_model_module_version": "1.5.0",
            "_model_name": "HTMLModel",
            "_view_count": null,
            "_view_module": "@jupyter-widgets/controls",
            "_view_module_version": "1.5.0",
            "_view_name": "HTMLView",
            "description": "",
            "description_tooltip": null,
            "layout": "IPY_MODEL_b8c8183b453641809782ffc373c68590",
            "placeholder": "​",
            "style": "IPY_MODEL_a1aa34af20ca47b0976668ec1e71c77b",
            "value": "100%"
          }
        },
        "79bd2b0187844956b7ae5f66c8b02a73": {
          "model_module": "@jupyter-widgets/base",
          "model_module_version": "1.2.0",
          "model_name": "LayoutModel",
          "state": {
            "_model_module": "@jupyter-widgets/base",
            "_model_module_version": "1.2.0",
            "_model_name": "LayoutModel",
            "_view_count": null,
            "_view_module": "@jupyter-widgets/base",
            "_view_module_version": "1.2.0",
            "_view_name": "LayoutView",
            "align_content": null,
            "align_items": null,
            "align_self": null,
            "border": null,
            "bottom": null,
            "display": null,
            "flex": null,
            "flex_flow": null,
            "grid_area": null,
            "grid_auto_columns": null,
            "grid_auto_flow": null,
            "grid_auto_rows": null,
            "grid_column": null,
            "grid_gap": null,
            "grid_row": null,
            "grid_template_areas": null,
            "grid_template_columns": null,
            "grid_template_rows": null,
            "height": null,
            "justify_content": null,
            "justify_items": null,
            "left": null,
            "margin": null,
            "max_height": null,
            "max_width": null,
            "min_height": null,
            "min_width": null,
            "object_fit": null,
            "object_position": null,
            "order": null,
            "overflow": null,
            "overflow_x": null,
            "overflow_y": null,
            "padding": null,
            "right": null,
            "top": null,
            "visibility": null,
            "width": null
          }
        },
        "79f6bc52e38c4fada84422eb2687b183": {
          "model_module": "@jupyter-widgets/base",
          "model_module_version": "1.2.0",
          "model_name": "LayoutModel",
          "state": {
            "_model_module": "@jupyter-widgets/base",
            "_model_module_version": "1.2.0",
            "_model_name": "LayoutModel",
            "_view_count": null,
            "_view_module": "@jupyter-widgets/base",
            "_view_module_version": "1.2.0",
            "_view_name": "LayoutView",
            "align_content": null,
            "align_items": null,
            "align_self": null,
            "border": null,
            "bottom": null,
            "display": null,
            "flex": null,
            "flex_flow": null,
            "grid_area": null,
            "grid_auto_columns": null,
            "grid_auto_flow": null,
            "grid_auto_rows": null,
            "grid_column": null,
            "grid_gap": null,
            "grid_row": null,
            "grid_template_areas": null,
            "grid_template_columns": null,
            "grid_template_rows": null,
            "height": null,
            "justify_content": null,
            "justify_items": null,
            "left": null,
            "margin": null,
            "max_height": null,
            "max_width": null,
            "min_height": null,
            "min_width": null,
            "object_fit": null,
            "object_position": null,
            "order": null,
            "overflow": null,
            "overflow_x": null,
            "overflow_y": null,
            "padding": null,
            "right": null,
            "top": null,
            "visibility": null,
            "width": null
          }
        },
        "7c0ff3790251406c99ef5bd22a63c45c": {
          "model_module": "@jupyter-widgets/base",
          "model_module_version": "1.2.0",
          "model_name": "LayoutModel",
          "state": {
            "_model_module": "@jupyter-widgets/base",
            "_model_module_version": "1.2.0",
            "_model_name": "LayoutModel",
            "_view_count": null,
            "_view_module": "@jupyter-widgets/base",
            "_view_module_version": "1.2.0",
            "_view_name": "LayoutView",
            "align_content": null,
            "align_items": null,
            "align_self": null,
            "border": null,
            "bottom": null,
            "display": null,
            "flex": null,
            "flex_flow": null,
            "grid_area": null,
            "grid_auto_columns": null,
            "grid_auto_flow": null,
            "grid_auto_rows": null,
            "grid_column": null,
            "grid_gap": null,
            "grid_row": null,
            "grid_template_areas": null,
            "grid_template_columns": null,
            "grid_template_rows": null,
            "height": null,
            "justify_content": null,
            "justify_items": null,
            "left": null,
            "margin": null,
            "max_height": null,
            "max_width": null,
            "min_height": null,
            "min_width": null,
            "object_fit": null,
            "object_position": null,
            "order": null,
            "overflow": null,
            "overflow_x": null,
            "overflow_y": null,
            "padding": null,
            "right": null,
            "top": null,
            "visibility": null,
            "width": null
          }
        },
        "7ebbf968b2bc490089252ecdae0b638a": {
          "model_module": "@jupyter-widgets/controls",
          "model_module_version": "1.5.0",
          "model_name": "FloatProgressModel",
          "state": {
            "_dom_classes": [],
            "_model_module": "@jupyter-widgets/controls",
            "_model_module_version": "1.5.0",
            "_model_name": "FloatProgressModel",
            "_view_count": null,
            "_view_module": "@jupyter-widgets/controls",
            "_view_module_version": "1.5.0",
            "_view_name": "ProgressView",
            "bar_style": "success",
            "description": "",
            "description_tooltip": null,
            "layout": "IPY_MODEL_7c0ff3790251406c99ef5bd22a63c45c",
            "max": 23867,
            "min": 0,
            "orientation": "horizontal",
            "style": "IPY_MODEL_8ffe90e8a63641078b81cfde286fb6d1",
            "value": 23867
          }
        },
        "7f65f3bc85bd4269a0a81cc1eb6353b2": {
          "model_module": "@jupyter-widgets/controls",
          "model_module_version": "1.5.0",
          "model_name": "ProgressStyleModel",
          "state": {
            "_model_module": "@jupyter-widgets/controls",
            "_model_module_version": "1.5.0",
            "_model_name": "ProgressStyleModel",
            "_view_count": null,
            "_view_module": "@jupyter-widgets/base",
            "_view_module_version": "1.2.0",
            "_view_name": "StyleView",
            "bar_color": null,
            "description_width": ""
          }
        },
        "8899616e594f465fb2b33e0d347696bc": {
          "model_module": "@jupyter-widgets/base",
          "model_module_version": "1.2.0",
          "model_name": "LayoutModel",
          "state": {
            "_model_module": "@jupyter-widgets/base",
            "_model_module_version": "1.2.0",
            "_model_name": "LayoutModel",
            "_view_count": null,
            "_view_module": "@jupyter-widgets/base",
            "_view_module_version": "1.2.0",
            "_view_name": "LayoutView",
            "align_content": null,
            "align_items": null,
            "align_self": null,
            "border": null,
            "bottom": null,
            "display": null,
            "flex": null,
            "flex_flow": null,
            "grid_area": null,
            "grid_auto_columns": null,
            "grid_auto_flow": null,
            "grid_auto_rows": null,
            "grid_column": null,
            "grid_gap": null,
            "grid_row": null,
            "grid_template_areas": null,
            "grid_template_columns": null,
            "grid_template_rows": null,
            "height": null,
            "justify_content": null,
            "justify_items": null,
            "left": null,
            "margin": null,
            "max_height": null,
            "max_width": null,
            "min_height": null,
            "min_width": null,
            "object_fit": null,
            "object_position": null,
            "order": null,
            "overflow": null,
            "overflow_x": null,
            "overflow_y": null,
            "padding": null,
            "right": null,
            "top": null,
            "visibility": null,
            "width": null
          }
        },
        "8ffe90e8a63641078b81cfde286fb6d1": {
          "model_module": "@jupyter-widgets/controls",
          "model_module_version": "1.5.0",
          "model_name": "ProgressStyleModel",
          "state": {
            "_model_module": "@jupyter-widgets/controls",
            "_model_module_version": "1.5.0",
            "_model_name": "ProgressStyleModel",
            "_view_count": null,
            "_view_module": "@jupyter-widgets/base",
            "_view_module_version": "1.2.0",
            "_view_name": "StyleView",
            "bar_color": null,
            "description_width": ""
          }
        },
        "95ba47968660478a8daba06c5dfaf7e5": {
          "model_module": "@jupyter-widgets/controls",
          "model_module_version": "1.5.0",
          "model_name": "HTMLModel",
          "state": {
            "_dom_classes": [],
            "_model_module": "@jupyter-widgets/controls",
            "_model_module_version": "1.5.0",
            "_model_name": "HTMLModel",
            "_view_count": null,
            "_view_module": "@jupyter-widgets/controls",
            "_view_module_version": "1.5.0",
            "_view_name": "HTMLView",
            "description": "",
            "description_tooltip": null,
            "layout": "IPY_MODEL_3e98d958f7224dcfb2cf077d387b87b2",
            "placeholder": "​",
            "style": "IPY_MODEL_4fa179617bd9431aae01ff08ed327be0",
            "value": " 1194/1194 [01:09&lt;00:00, 18.25it/s]"
          }
        },
        "9e99fa657a6040f6a5360bbcd1a60c27": {
          "model_module": "@jupyter-widgets/controls",
          "model_module_version": "1.5.0",
          "model_name": "HBoxModel",
          "state": {
            "_dom_classes": [],
            "_model_module": "@jupyter-widgets/controls",
            "_model_module_version": "1.5.0",
            "_model_name": "HBoxModel",
            "_view_count": null,
            "_view_module": "@jupyter-widgets/controls",
            "_view_module_version": "1.5.0",
            "_view_name": "HBoxView",
            "box_style": "",
            "children": [
              "IPY_MODEL_01921958a0ae47c38b4094894211b066",
              "IPY_MODEL_f7e96547d0c34043817c45a367dbcdfe",
              "IPY_MODEL_95ba47968660478a8daba06c5dfaf7e5"
            ],
            "layout": "IPY_MODEL_ca896274733548469b87386d5d1d6427"
          }
        },
        "a1aa34af20ca47b0976668ec1e71c77b": {
          "model_module": "@jupyter-widgets/controls",
          "model_module_version": "1.5.0",
          "model_name": "DescriptionStyleModel",
          "state": {
            "_model_module": "@jupyter-widgets/controls",
            "_model_module_version": "1.5.0",
            "_model_name": "DescriptionStyleModel",
            "_view_count": null,
            "_view_module": "@jupyter-widgets/base",
            "_view_module_version": "1.2.0",
            "_view_name": "StyleView",
            "description_width": ""
          }
        },
        "a60db61a25e1420b9d349d2c06174e1c": {
          "model_module": "@jupyter-widgets/controls",
          "model_module_version": "1.5.0",
          "model_name": "HBoxModel",
          "state": {
            "_dom_classes": [],
            "_model_module": "@jupyter-widgets/controls",
            "_model_module_version": "1.5.0",
            "_model_name": "HBoxModel",
            "_view_count": null,
            "_view_module": "@jupyter-widgets/controls",
            "_view_module_version": "1.5.0",
            "_view_name": "HBoxView",
            "box_style": "",
            "children": [
              "IPY_MODEL_3c4ecdf41337407b8d2f2955120b6d91",
              "IPY_MODEL_6bf41ec05fa04e3fb14b7364542650be",
              "IPY_MODEL_a73e319c2608407784592fb1d676d202"
            ],
            "layout": "IPY_MODEL_54c8356bc9e9494faf086ccbb5a57b8c"
          }
        },
        "a73e319c2608407784592fb1d676d202": {
          "model_module": "@jupyter-widgets/controls",
          "model_module_version": "1.5.0",
          "model_name": "HTMLModel",
          "state": {
            "_dom_classes": [],
            "_model_module": "@jupyter-widgets/controls",
            "_model_module_version": "1.5.0",
            "_model_name": "HTMLModel",
            "_view_count": null,
            "_view_module": "@jupyter-widgets/controls",
            "_view_module_version": "1.5.0",
            "_view_name": "HTMLView",
            "description": "",
            "description_tooltip": null,
            "layout": "IPY_MODEL_bcd1951c94b64c9fb4143d88ba9839fa",
            "placeholder": "​",
            "style": "IPY_MODEL_dc3511348b104b5fb7d484d2b7f9d3f2",
            "value": " 23867/23867 [00:20&lt;00:00, 1161.17it/s]"
          }
        },
        "b108ea66bb654d398ae0600e9dac4e92": {
          "model_module": "@jupyter-widgets/base",
          "model_module_version": "1.2.0",
          "model_name": "LayoutModel",
          "state": {
            "_model_module": "@jupyter-widgets/base",
            "_model_module_version": "1.2.0",
            "_model_name": "LayoutModel",
            "_view_count": null,
            "_view_module": "@jupyter-widgets/base",
            "_view_module_version": "1.2.0",
            "_view_name": "LayoutView",
            "align_content": null,
            "align_items": null,
            "align_self": null,
            "border": null,
            "bottom": null,
            "display": null,
            "flex": null,
            "flex_flow": null,
            "grid_area": null,
            "grid_auto_columns": null,
            "grid_auto_flow": null,
            "grid_auto_rows": null,
            "grid_column": null,
            "grid_gap": null,
            "grid_row": null,
            "grid_template_areas": null,
            "grid_template_columns": null,
            "grid_template_rows": null,
            "height": null,
            "justify_content": null,
            "justify_items": null,
            "left": null,
            "margin": null,
            "max_height": null,
            "max_width": null,
            "min_height": null,
            "min_width": null,
            "object_fit": null,
            "object_position": null,
            "order": null,
            "overflow": null,
            "overflow_x": null,
            "overflow_y": null,
            "padding": null,
            "right": null,
            "top": null,
            "visibility": null,
            "width": null
          }
        },
        "b19a1ca8cc0545a5a36326b5aaf60dcd": {
          "model_module": "@jupyter-widgets/base",
          "model_module_version": "1.2.0",
          "model_name": "LayoutModel",
          "state": {
            "_model_module": "@jupyter-widgets/base",
            "_model_module_version": "1.2.0",
            "_model_name": "LayoutModel",
            "_view_count": null,
            "_view_module": "@jupyter-widgets/base",
            "_view_module_version": "1.2.0",
            "_view_name": "LayoutView",
            "align_content": null,
            "align_items": null,
            "align_self": null,
            "border": null,
            "bottom": null,
            "display": null,
            "flex": null,
            "flex_flow": null,
            "grid_area": null,
            "grid_auto_columns": null,
            "grid_auto_flow": null,
            "grid_auto_rows": null,
            "grid_column": null,
            "grid_gap": null,
            "grid_row": null,
            "grid_template_areas": null,
            "grid_template_columns": null,
            "grid_template_rows": null,
            "height": null,
            "justify_content": null,
            "justify_items": null,
            "left": null,
            "margin": null,
            "max_height": null,
            "max_width": null,
            "min_height": null,
            "min_width": null,
            "object_fit": null,
            "object_position": null,
            "order": null,
            "overflow": null,
            "overflow_x": null,
            "overflow_y": null,
            "padding": null,
            "right": null,
            "top": null,
            "visibility": null,
            "width": null
          }
        },
        "b278001a0ff04be683aec723465f4de6": {
          "model_module": "@jupyter-widgets/controls",
          "model_module_version": "1.5.0",
          "model_name": "HTMLModel",
          "state": {
            "_dom_classes": [],
            "_model_module": "@jupyter-widgets/controls",
            "_model_module_version": "1.5.0",
            "_model_name": "HTMLModel",
            "_view_count": null,
            "_view_module": "@jupyter-widgets/controls",
            "_view_module_version": "1.5.0",
            "_view_name": "HTMLView",
            "description": "",
            "description_tooltip": null,
            "layout": "IPY_MODEL_303d61caad6947b785a33028bb64c2f1",
            "placeholder": "​",
            "style": "IPY_MODEL_5cccb8a056be4eb4a3d2de912c9616c7",
            "value": "100%"
          }
        },
        "b8c8183b453641809782ffc373c68590": {
          "model_module": "@jupyter-widgets/base",
          "model_module_version": "1.2.0",
          "model_name": "LayoutModel",
          "state": {
            "_model_module": "@jupyter-widgets/base",
            "_model_module_version": "1.2.0",
            "_model_name": "LayoutModel",
            "_view_count": null,
            "_view_module": "@jupyter-widgets/base",
            "_view_module_version": "1.2.0",
            "_view_name": "LayoutView",
            "align_content": null,
            "align_items": null,
            "align_self": null,
            "border": null,
            "bottom": null,
            "display": null,
            "flex": null,
            "flex_flow": null,
            "grid_area": null,
            "grid_auto_columns": null,
            "grid_auto_flow": null,
            "grid_auto_rows": null,
            "grid_column": null,
            "grid_gap": null,
            "grid_row": null,
            "grid_template_areas": null,
            "grid_template_columns": null,
            "grid_template_rows": null,
            "height": null,
            "justify_content": null,
            "justify_items": null,
            "left": null,
            "margin": null,
            "max_height": null,
            "max_width": null,
            "min_height": null,
            "min_width": null,
            "object_fit": null,
            "object_position": null,
            "order": null,
            "overflow": null,
            "overflow_x": null,
            "overflow_y": null,
            "padding": null,
            "right": null,
            "top": null,
            "visibility": null,
            "width": null
          }
        },
        "bbb07aa6d6794be2bc7d9e9bf9f31e69": {
          "model_module": "@jupyter-widgets/controls",
          "model_module_version": "1.5.0",
          "model_name": "HTMLModel",
          "state": {
            "_dom_classes": [],
            "_model_module": "@jupyter-widgets/controls",
            "_model_module_version": "1.5.0",
            "_model_name": "HTMLModel",
            "_view_count": null,
            "_view_module": "@jupyter-widgets/controls",
            "_view_module_version": "1.5.0",
            "_view_name": "HTMLView",
            "description": "",
            "description_tooltip": null,
            "layout": "IPY_MODEL_095b30f6aaa4461ca7190e51f9f15b73",
            "placeholder": "​",
            "style": "IPY_MODEL_214d76bdde9343329ad5e18011a0cfb3",
            "value": " 23867/23867 [00:02&lt;00:00, 10820.50it/s]"
          }
        },
        "bcd1951c94b64c9fb4143d88ba9839fa": {
          "model_module": "@jupyter-widgets/base",
          "model_module_version": "1.2.0",
          "model_name": "LayoutModel",
          "state": {
            "_model_module": "@jupyter-widgets/base",
            "_model_module_version": "1.2.0",
            "_model_name": "LayoutModel",
            "_view_count": null,
            "_view_module": "@jupyter-widgets/base",
            "_view_module_version": "1.2.0",
            "_view_name": "LayoutView",
            "align_content": null,
            "align_items": null,
            "align_self": null,
            "border": null,
            "bottom": null,
            "display": null,
            "flex": null,
            "flex_flow": null,
            "grid_area": null,
            "grid_auto_columns": null,
            "grid_auto_flow": null,
            "grid_auto_rows": null,
            "grid_column": null,
            "grid_gap": null,
            "grid_row": null,
            "grid_template_areas": null,
            "grid_template_columns": null,
            "grid_template_rows": null,
            "height": null,
            "justify_content": null,
            "justify_items": null,
            "left": null,
            "margin": null,
            "max_height": null,
            "max_width": null,
            "min_height": null,
            "min_width": null,
            "object_fit": null,
            "object_position": null,
            "order": null,
            "overflow": null,
            "overflow_x": null,
            "overflow_y": null,
            "padding": null,
            "right": null,
            "top": null,
            "visibility": null,
            "width": null
          }
        },
        "be1e96d1bb0e4866b6f12c73dbc6ad31": {
          "model_module": "@jupyter-widgets/controls",
          "model_module_version": "1.5.0",
          "model_name": "DescriptionStyleModel",
          "state": {
            "_model_module": "@jupyter-widgets/controls",
            "_model_module_version": "1.5.0",
            "_model_name": "DescriptionStyleModel",
            "_view_count": null,
            "_view_module": "@jupyter-widgets/base",
            "_view_module_version": "1.2.0",
            "_view_name": "StyleView",
            "description_width": ""
          }
        },
        "c224a504db2c498893a96b73bfe0f265": {
          "model_module": "@jupyter-widgets/controls",
          "model_module_version": "1.5.0",
          "model_name": "ProgressStyleModel",
          "state": {
            "_model_module": "@jupyter-widgets/controls",
            "_model_module_version": "1.5.0",
            "_model_name": "ProgressStyleModel",
            "_view_count": null,
            "_view_module": "@jupyter-widgets/base",
            "_view_module_version": "1.2.0",
            "_view_name": "StyleView",
            "bar_color": null,
            "description_width": ""
          }
        },
        "c567d744ad1544b49b12550269aca522": {
          "model_module": "@jupyter-widgets/controls",
          "model_module_version": "1.5.0",
          "model_name": "HBoxModel",
          "state": {
            "_dom_classes": [],
            "_model_module": "@jupyter-widgets/controls",
            "_model_module_version": "1.5.0",
            "_model_name": "HBoxModel",
            "_view_count": null,
            "_view_module": "@jupyter-widgets/controls",
            "_view_module_version": "1.5.0",
            "_view_name": "HBoxView",
            "box_style": "",
            "children": [
              "IPY_MODEL_712b4172f08a4ca089753818527c435d",
              "IPY_MODEL_7ebbf968b2bc490089252ecdae0b638a",
              "IPY_MODEL_bbb07aa6d6794be2bc7d9e9bf9f31e69"
            ],
            "layout": "IPY_MODEL_79f6bc52e38c4fada84422eb2687b183"
          }
        },
        "c6e86494eb2b4810b583210a6eaeafee": {
          "model_module": "@jupyter-widgets/controls",
          "model_module_version": "1.5.0",
          "model_name": "ProgressStyleModel",
          "state": {
            "_model_module": "@jupyter-widgets/controls",
            "_model_module_version": "1.5.0",
            "_model_name": "ProgressStyleModel",
            "_view_count": null,
            "_view_module": "@jupyter-widgets/base",
            "_view_module_version": "1.2.0",
            "_view_name": "StyleView",
            "bar_color": null,
            "description_width": ""
          }
        },
        "ca896274733548469b87386d5d1d6427": {
          "model_module": "@jupyter-widgets/base",
          "model_module_version": "1.2.0",
          "model_name": "LayoutModel",
          "state": {
            "_model_module": "@jupyter-widgets/base",
            "_model_module_version": "1.2.0",
            "_model_name": "LayoutModel",
            "_view_count": null,
            "_view_module": "@jupyter-widgets/base",
            "_view_module_version": "1.2.0",
            "_view_name": "LayoutView",
            "align_content": null,
            "align_items": null,
            "align_self": null,
            "border": null,
            "bottom": null,
            "display": null,
            "flex": null,
            "flex_flow": null,
            "grid_area": null,
            "grid_auto_columns": null,
            "grid_auto_flow": null,
            "grid_auto_rows": null,
            "grid_column": null,
            "grid_gap": null,
            "grid_row": null,
            "grid_template_areas": null,
            "grid_template_columns": null,
            "grid_template_rows": null,
            "height": null,
            "justify_content": null,
            "justify_items": null,
            "left": null,
            "margin": null,
            "max_height": null,
            "max_width": null,
            "min_height": null,
            "min_width": null,
            "object_fit": null,
            "object_position": null,
            "order": null,
            "overflow": null,
            "overflow_x": null,
            "overflow_y": null,
            "padding": null,
            "right": null,
            "top": null,
            "visibility": null,
            "width": null
          }
        },
        "d025ee3860934f96933fe5664874e67f": {
          "model_module": "@jupyter-widgets/controls",
          "model_module_version": "1.5.0",
          "model_name": "HTMLModel",
          "state": {
            "_dom_classes": [],
            "_model_module": "@jupyter-widgets/controls",
            "_model_module_version": "1.5.0",
            "_model_name": "HTMLModel",
            "_view_count": null,
            "_view_module": "@jupyter-widgets/controls",
            "_view_module_version": "1.5.0",
            "_view_name": "HTMLView",
            "description": "",
            "description_tooltip": null,
            "layout": "IPY_MODEL_4d5daf8e430b41d38813a0c56c403cdd",
            "placeholder": "​",
            "style": "IPY_MODEL_e259fd0960d9488693eef8483d2a6c6b",
            "value": " 23867/23867 [00:00&lt;00:00, 65061.55it/s]"
          }
        },
        "dc3511348b104b5fb7d484d2b7f9d3f2": {
          "model_module": "@jupyter-widgets/controls",
          "model_module_version": "1.5.0",
          "model_name": "DescriptionStyleModel",
          "state": {
            "_model_module": "@jupyter-widgets/controls",
            "_model_module_version": "1.5.0",
            "_model_name": "DescriptionStyleModel",
            "_view_count": null,
            "_view_module": "@jupyter-widgets/base",
            "_view_module_version": "1.2.0",
            "_view_name": "StyleView",
            "description_width": ""
          }
        },
        "e259fd0960d9488693eef8483d2a6c6b": {
          "model_module": "@jupyter-widgets/controls",
          "model_module_version": "1.5.0",
          "model_name": "DescriptionStyleModel",
          "state": {
            "_model_module": "@jupyter-widgets/controls",
            "_model_module_version": "1.5.0",
            "_model_name": "DescriptionStyleModel",
            "_view_count": null,
            "_view_module": "@jupyter-widgets/base",
            "_view_module_version": "1.2.0",
            "_view_name": "StyleView",
            "description_width": ""
          }
        },
        "f7e96547d0c34043817c45a367dbcdfe": {
          "model_module": "@jupyter-widgets/controls",
          "model_module_version": "1.5.0",
          "model_name": "FloatProgressModel",
          "state": {
            "_dom_classes": [],
            "_model_module": "@jupyter-widgets/controls",
            "_model_module_version": "1.5.0",
            "_model_name": "FloatProgressModel",
            "_view_count": null,
            "_view_module": "@jupyter-widgets/controls",
            "_view_module_version": "1.5.0",
            "_view_name": "ProgressView",
            "bar_style": "success",
            "description": "",
            "description_tooltip": null,
            "layout": "IPY_MODEL_b19a1ca8cc0545a5a36326b5aaf60dcd",
            "max": 1194,
            "min": 0,
            "orientation": "horizontal",
            "style": "IPY_MODEL_c6e86494eb2b4810b583210a6eaeafee",
            "value": 1194
          }
        },
        "f9a9d166744d45ffbbcf44b96bd9df32": {
          "model_module": "@jupyter-widgets/controls",
          "model_module_version": "1.5.0",
          "model_name": "FloatProgressModel",
          "state": {
            "_dom_classes": [],
            "_model_module": "@jupyter-widgets/controls",
            "_model_module_version": "1.5.0",
            "_model_name": "FloatProgressModel",
            "_view_count": null,
            "_view_module": "@jupyter-widgets/controls",
            "_view_module_version": "1.5.0",
            "_view_name": "ProgressView",
            "bar_style": "success",
            "description": "",
            "description_tooltip": null,
            "layout": "IPY_MODEL_79bd2b0187844956b7ae5f66c8b02a73",
            "max": 23867,
            "min": 0,
            "orientation": "horizontal",
            "style": "IPY_MODEL_7f65f3bc85bd4269a0a81cc1eb6353b2",
            "value": 23867
          }
        },
        "d06493bbf9e74789a435a9e56a4c7afc": {
          "model_module": "@jupyter-widgets/controls",
          "model_name": "HBoxModel",
          "model_module_version": "1.5.0",
          "state": {
            "_dom_classes": [],
            "_model_module": "@jupyter-widgets/controls",
            "_model_module_version": "1.5.0",
            "_model_name": "HBoxModel",
            "_view_count": null,
            "_view_module": "@jupyter-widgets/controls",
            "_view_module_version": "1.5.0",
            "_view_name": "HBoxView",
            "box_style": "",
            "children": [
              "IPY_MODEL_3771922cc80d42bf81c8ffc50d509342",
              "IPY_MODEL_75278455df254687982e46f91899a8ac",
              "IPY_MODEL_305eb6bf890e42c9be2bcc1aa8181586"
            ],
            "layout": "IPY_MODEL_bbd2c6b1dd8d4f758f8c03c63968a243"
          }
        },
        "3771922cc80d42bf81c8ffc50d509342": {
          "model_module": "@jupyter-widgets/controls",
          "model_name": "HTMLModel",
          "model_module_version": "1.5.0",
          "state": {
            "_dom_classes": [],
            "_model_module": "@jupyter-widgets/controls",
            "_model_module_version": "1.5.0",
            "_model_name": "HTMLModel",
            "_view_count": null,
            "_view_module": "@jupyter-widgets/controls",
            "_view_module_version": "1.5.0",
            "_view_name": "HTMLView",
            "description": "",
            "description_tooltip": null,
            "layout": "IPY_MODEL_868205095e4549f3b6db994ba80b19ec",
            "placeholder": "​",
            "style": "IPY_MODEL_ae018726cc794ad2bf6a47e71904a7e4",
            "value": "100%"
          }
        },
        "75278455df254687982e46f91899a8ac": {
          "model_module": "@jupyter-widgets/controls",
          "model_name": "FloatProgressModel",
          "model_module_version": "1.5.0",
          "state": {
            "_dom_classes": [],
            "_model_module": "@jupyter-widgets/controls",
            "_model_module_version": "1.5.0",
            "_model_name": "FloatProgressModel",
            "_view_count": null,
            "_view_module": "@jupyter-widgets/controls",
            "_view_module_version": "1.5.0",
            "_view_name": "ProgressView",
            "bar_style": "success",
            "description": "",
            "description_tooltip": null,
            "layout": "IPY_MODEL_31b240956bbe43a383e8aa61e6f8645c",
            "max": 23867,
            "min": 0,
            "orientation": "horizontal",
            "style": "IPY_MODEL_5145ee408528403381212cc43cb3b23a",
            "value": 23867
          }
        },
        "305eb6bf890e42c9be2bcc1aa8181586": {
          "model_module": "@jupyter-widgets/controls",
          "model_name": "HTMLModel",
          "model_module_version": "1.5.0",
          "state": {
            "_dom_classes": [],
            "_model_module": "@jupyter-widgets/controls",
            "_model_module_version": "1.5.0",
            "_model_name": "HTMLModel",
            "_view_count": null,
            "_view_module": "@jupyter-widgets/controls",
            "_view_module_version": "1.5.0",
            "_view_name": "HTMLView",
            "description": "",
            "description_tooltip": null,
            "layout": "IPY_MODEL_dbdb291c7d0945eb8fd743e07a5c16bf",
            "placeholder": "​",
            "style": "IPY_MODEL_1cda7be1c3264c2db17d831cc28e7b7a",
            "value": " 23867/23867 [04:16&lt;00:00, 99.97it/s]"
          }
        },
        "bbd2c6b1dd8d4f758f8c03c63968a243": {
          "model_module": "@jupyter-widgets/base",
          "model_name": "LayoutModel",
          "model_module_version": "1.2.0",
          "state": {
            "_model_module": "@jupyter-widgets/base",
            "_model_module_version": "1.2.0",
            "_model_name": "LayoutModel",
            "_view_count": null,
            "_view_module": "@jupyter-widgets/base",
            "_view_module_version": "1.2.0",
            "_view_name": "LayoutView",
            "align_content": null,
            "align_items": null,
            "align_self": null,
            "border": null,
            "bottom": null,
            "display": null,
            "flex": null,
            "flex_flow": null,
            "grid_area": null,
            "grid_auto_columns": null,
            "grid_auto_flow": null,
            "grid_auto_rows": null,
            "grid_column": null,
            "grid_gap": null,
            "grid_row": null,
            "grid_template_areas": null,
            "grid_template_columns": null,
            "grid_template_rows": null,
            "height": null,
            "justify_content": null,
            "justify_items": null,
            "left": null,
            "margin": null,
            "max_height": null,
            "max_width": null,
            "min_height": null,
            "min_width": null,
            "object_fit": null,
            "object_position": null,
            "order": null,
            "overflow": null,
            "overflow_x": null,
            "overflow_y": null,
            "padding": null,
            "right": null,
            "top": null,
            "visibility": null,
            "width": null
          }
        },
        "868205095e4549f3b6db994ba80b19ec": {
          "model_module": "@jupyter-widgets/base",
          "model_name": "LayoutModel",
          "model_module_version": "1.2.0",
          "state": {
            "_model_module": "@jupyter-widgets/base",
            "_model_module_version": "1.2.0",
            "_model_name": "LayoutModel",
            "_view_count": null,
            "_view_module": "@jupyter-widgets/base",
            "_view_module_version": "1.2.0",
            "_view_name": "LayoutView",
            "align_content": null,
            "align_items": null,
            "align_self": null,
            "border": null,
            "bottom": null,
            "display": null,
            "flex": null,
            "flex_flow": null,
            "grid_area": null,
            "grid_auto_columns": null,
            "grid_auto_flow": null,
            "grid_auto_rows": null,
            "grid_column": null,
            "grid_gap": null,
            "grid_row": null,
            "grid_template_areas": null,
            "grid_template_columns": null,
            "grid_template_rows": null,
            "height": null,
            "justify_content": null,
            "justify_items": null,
            "left": null,
            "margin": null,
            "max_height": null,
            "max_width": null,
            "min_height": null,
            "min_width": null,
            "object_fit": null,
            "object_position": null,
            "order": null,
            "overflow": null,
            "overflow_x": null,
            "overflow_y": null,
            "padding": null,
            "right": null,
            "top": null,
            "visibility": null,
            "width": null
          }
        },
        "ae018726cc794ad2bf6a47e71904a7e4": {
          "model_module": "@jupyter-widgets/controls",
          "model_name": "DescriptionStyleModel",
          "model_module_version": "1.5.0",
          "state": {
            "_model_module": "@jupyter-widgets/controls",
            "_model_module_version": "1.5.0",
            "_model_name": "DescriptionStyleModel",
            "_view_count": null,
            "_view_module": "@jupyter-widgets/base",
            "_view_module_version": "1.2.0",
            "_view_name": "StyleView",
            "description_width": ""
          }
        },
        "31b240956bbe43a383e8aa61e6f8645c": {
          "model_module": "@jupyter-widgets/base",
          "model_name": "LayoutModel",
          "model_module_version": "1.2.0",
          "state": {
            "_model_module": "@jupyter-widgets/base",
            "_model_module_version": "1.2.0",
            "_model_name": "LayoutModel",
            "_view_count": null,
            "_view_module": "@jupyter-widgets/base",
            "_view_module_version": "1.2.0",
            "_view_name": "LayoutView",
            "align_content": null,
            "align_items": null,
            "align_self": null,
            "border": null,
            "bottom": null,
            "display": null,
            "flex": null,
            "flex_flow": null,
            "grid_area": null,
            "grid_auto_columns": null,
            "grid_auto_flow": null,
            "grid_auto_rows": null,
            "grid_column": null,
            "grid_gap": null,
            "grid_row": null,
            "grid_template_areas": null,
            "grid_template_columns": null,
            "grid_template_rows": null,
            "height": null,
            "justify_content": null,
            "justify_items": null,
            "left": null,
            "margin": null,
            "max_height": null,
            "max_width": null,
            "min_height": null,
            "min_width": null,
            "object_fit": null,
            "object_position": null,
            "order": null,
            "overflow": null,
            "overflow_x": null,
            "overflow_y": null,
            "padding": null,
            "right": null,
            "top": null,
            "visibility": null,
            "width": null
          }
        },
        "5145ee408528403381212cc43cb3b23a": {
          "model_module": "@jupyter-widgets/controls",
          "model_name": "ProgressStyleModel",
          "model_module_version": "1.5.0",
          "state": {
            "_model_module": "@jupyter-widgets/controls",
            "_model_module_version": "1.5.0",
            "_model_name": "ProgressStyleModel",
            "_view_count": null,
            "_view_module": "@jupyter-widgets/base",
            "_view_module_version": "1.2.0",
            "_view_name": "StyleView",
            "bar_color": null,
            "description_width": ""
          }
        },
        "dbdb291c7d0945eb8fd743e07a5c16bf": {
          "model_module": "@jupyter-widgets/base",
          "model_name": "LayoutModel",
          "model_module_version": "1.2.0",
          "state": {
            "_model_module": "@jupyter-widgets/base",
            "_model_module_version": "1.2.0",
            "_model_name": "LayoutModel",
            "_view_count": null,
            "_view_module": "@jupyter-widgets/base",
            "_view_module_version": "1.2.0",
            "_view_name": "LayoutView",
            "align_content": null,
            "align_items": null,
            "align_self": null,
            "border": null,
            "bottom": null,
            "display": null,
            "flex": null,
            "flex_flow": null,
            "grid_area": null,
            "grid_auto_columns": null,
            "grid_auto_flow": null,
            "grid_auto_rows": null,
            "grid_column": null,
            "grid_gap": null,
            "grid_row": null,
            "grid_template_areas": null,
            "grid_template_columns": null,
            "grid_template_rows": null,
            "height": null,
            "justify_content": null,
            "justify_items": null,
            "left": null,
            "margin": null,
            "max_height": null,
            "max_width": null,
            "min_height": null,
            "min_width": null,
            "object_fit": null,
            "object_position": null,
            "order": null,
            "overflow": null,
            "overflow_x": null,
            "overflow_y": null,
            "padding": null,
            "right": null,
            "top": null,
            "visibility": null,
            "width": null
          }
        },
        "1cda7be1c3264c2db17d831cc28e7b7a": {
          "model_module": "@jupyter-widgets/controls",
          "model_name": "DescriptionStyleModel",
          "model_module_version": "1.5.0",
          "state": {
            "_model_module": "@jupyter-widgets/controls",
            "_model_module_version": "1.5.0",
            "_model_name": "DescriptionStyleModel",
            "_view_count": null,
            "_view_module": "@jupyter-widgets/base",
            "_view_module_version": "1.2.0",
            "_view_name": "StyleView",
            "description_width": ""
          }
        },
        "79726d188dc04b379c01e7ee2ddb94a9": {
          "model_module": "@jupyter-widgets/controls",
          "model_name": "HBoxModel",
          "model_module_version": "1.5.0",
          "state": {
            "_dom_classes": [],
            "_model_module": "@jupyter-widgets/controls",
            "_model_module_version": "1.5.0",
            "_model_name": "HBoxModel",
            "_view_count": null,
            "_view_module": "@jupyter-widgets/controls",
            "_view_module_version": "1.5.0",
            "_view_name": "HBoxView",
            "box_style": "",
            "children": [
              "IPY_MODEL_17918d943836482c89384ee5f43721a0",
              "IPY_MODEL_2fa816e31104426689d977d6cdf988a9",
              "IPY_MODEL_680b1e350e2140909b297c980adb6ae0"
            ],
            "layout": "IPY_MODEL_7da7d0188fca4d999c8bb20c10e2ddd0"
          }
        },
        "17918d943836482c89384ee5f43721a0": {
          "model_module": "@jupyter-widgets/controls",
          "model_name": "HTMLModel",
          "model_module_version": "1.5.0",
          "state": {
            "_dom_classes": [],
            "_model_module": "@jupyter-widgets/controls",
            "_model_module_version": "1.5.0",
            "_model_name": "HTMLModel",
            "_view_count": null,
            "_view_module": "@jupyter-widgets/controls",
            "_view_module_version": "1.5.0",
            "_view_name": "HTMLView",
            "description": "",
            "description_tooltip": null,
            "layout": "IPY_MODEL_1a8588178ca44c95b5a36e682ccf88c4",
            "placeholder": "​",
            "style": "IPY_MODEL_d70b1221831d4736969b56e8691e22d9",
            "value": "100%"
          }
        },
        "2fa816e31104426689d977d6cdf988a9": {
          "model_module": "@jupyter-widgets/controls",
          "model_name": "FloatProgressModel",
          "model_module_version": "1.5.0",
          "state": {
            "_dom_classes": [],
            "_model_module": "@jupyter-widgets/controls",
            "_model_module_version": "1.5.0",
            "_model_name": "FloatProgressModel",
            "_view_count": null,
            "_view_module": "@jupyter-widgets/controls",
            "_view_module_version": "1.5.0",
            "_view_name": "ProgressView",
            "bar_style": "success",
            "description": "",
            "description_tooltip": null,
            "layout": "IPY_MODEL_42e8101be4b74a9a8b55eff5af626fa1",
            "max": 212,
            "min": 0,
            "orientation": "horizontal",
            "style": "IPY_MODEL_2a53ff62395a4800815b4cc31f739464",
            "value": 212
          }
        },
        "680b1e350e2140909b297c980adb6ae0": {
          "model_module": "@jupyter-widgets/controls",
          "model_name": "HTMLModel",
          "model_module_version": "1.5.0",
          "state": {
            "_dom_classes": [],
            "_model_module": "@jupyter-widgets/controls",
            "_model_module_version": "1.5.0",
            "_model_name": "HTMLModel",
            "_view_count": null,
            "_view_module": "@jupyter-widgets/controls",
            "_view_module_version": "1.5.0",
            "_view_name": "HTMLView",
            "description": "",
            "description_tooltip": null,
            "layout": "IPY_MODEL_316d94d5cb724448928f39f60d684787",
            "placeholder": "​",
            "style": "IPY_MODEL_011b6e6616074b3b823cb3563e732fdf",
            "value": " 212/212 [00:40&lt;00:00,  7.90it/s]"
          }
        },
        "7da7d0188fca4d999c8bb20c10e2ddd0": {
          "model_module": "@jupyter-widgets/base",
          "model_name": "LayoutModel",
          "model_module_version": "1.2.0",
          "state": {
            "_model_module": "@jupyter-widgets/base",
            "_model_module_version": "1.2.0",
            "_model_name": "LayoutModel",
            "_view_count": null,
            "_view_module": "@jupyter-widgets/base",
            "_view_module_version": "1.2.0",
            "_view_name": "LayoutView",
            "align_content": null,
            "align_items": null,
            "align_self": null,
            "border": null,
            "bottom": null,
            "display": null,
            "flex": null,
            "flex_flow": null,
            "grid_area": null,
            "grid_auto_columns": null,
            "grid_auto_flow": null,
            "grid_auto_rows": null,
            "grid_column": null,
            "grid_gap": null,
            "grid_row": null,
            "grid_template_areas": null,
            "grid_template_columns": null,
            "grid_template_rows": null,
            "height": null,
            "justify_content": null,
            "justify_items": null,
            "left": null,
            "margin": null,
            "max_height": null,
            "max_width": null,
            "min_height": null,
            "min_width": null,
            "object_fit": null,
            "object_position": null,
            "order": null,
            "overflow": null,
            "overflow_x": null,
            "overflow_y": null,
            "padding": null,
            "right": null,
            "top": null,
            "visibility": null,
            "width": null
          }
        },
        "1a8588178ca44c95b5a36e682ccf88c4": {
          "model_module": "@jupyter-widgets/base",
          "model_name": "LayoutModel",
          "model_module_version": "1.2.0",
          "state": {
            "_model_module": "@jupyter-widgets/base",
            "_model_module_version": "1.2.0",
            "_model_name": "LayoutModel",
            "_view_count": null,
            "_view_module": "@jupyter-widgets/base",
            "_view_module_version": "1.2.0",
            "_view_name": "LayoutView",
            "align_content": null,
            "align_items": null,
            "align_self": null,
            "border": null,
            "bottom": null,
            "display": null,
            "flex": null,
            "flex_flow": null,
            "grid_area": null,
            "grid_auto_columns": null,
            "grid_auto_flow": null,
            "grid_auto_rows": null,
            "grid_column": null,
            "grid_gap": null,
            "grid_row": null,
            "grid_template_areas": null,
            "grid_template_columns": null,
            "grid_template_rows": null,
            "height": null,
            "justify_content": null,
            "justify_items": null,
            "left": null,
            "margin": null,
            "max_height": null,
            "max_width": null,
            "min_height": null,
            "min_width": null,
            "object_fit": null,
            "object_position": null,
            "order": null,
            "overflow": null,
            "overflow_x": null,
            "overflow_y": null,
            "padding": null,
            "right": null,
            "top": null,
            "visibility": null,
            "width": null
          }
        },
        "d70b1221831d4736969b56e8691e22d9": {
          "model_module": "@jupyter-widgets/controls",
          "model_name": "DescriptionStyleModel",
          "model_module_version": "1.5.0",
          "state": {
            "_model_module": "@jupyter-widgets/controls",
            "_model_module_version": "1.5.0",
            "_model_name": "DescriptionStyleModel",
            "_view_count": null,
            "_view_module": "@jupyter-widgets/base",
            "_view_module_version": "1.2.0",
            "_view_name": "StyleView",
            "description_width": ""
          }
        },
        "42e8101be4b74a9a8b55eff5af626fa1": {
          "model_module": "@jupyter-widgets/base",
          "model_name": "LayoutModel",
          "model_module_version": "1.2.0",
          "state": {
            "_model_module": "@jupyter-widgets/base",
            "_model_module_version": "1.2.0",
            "_model_name": "LayoutModel",
            "_view_count": null,
            "_view_module": "@jupyter-widgets/base",
            "_view_module_version": "1.2.0",
            "_view_name": "LayoutView",
            "align_content": null,
            "align_items": null,
            "align_self": null,
            "border": null,
            "bottom": null,
            "display": null,
            "flex": null,
            "flex_flow": null,
            "grid_area": null,
            "grid_auto_columns": null,
            "grid_auto_flow": null,
            "grid_auto_rows": null,
            "grid_column": null,
            "grid_gap": null,
            "grid_row": null,
            "grid_template_areas": null,
            "grid_template_columns": null,
            "grid_template_rows": null,
            "height": null,
            "justify_content": null,
            "justify_items": null,
            "left": null,
            "margin": null,
            "max_height": null,
            "max_width": null,
            "min_height": null,
            "min_width": null,
            "object_fit": null,
            "object_position": null,
            "order": null,
            "overflow": null,
            "overflow_x": null,
            "overflow_y": null,
            "padding": null,
            "right": null,
            "top": null,
            "visibility": null,
            "width": null
          }
        },
        "2a53ff62395a4800815b4cc31f739464": {
          "model_module": "@jupyter-widgets/controls",
          "model_name": "ProgressStyleModel",
          "model_module_version": "1.5.0",
          "state": {
            "_model_module": "@jupyter-widgets/controls",
            "_model_module_version": "1.5.0",
            "_model_name": "ProgressStyleModel",
            "_view_count": null,
            "_view_module": "@jupyter-widgets/base",
            "_view_module_version": "1.2.0",
            "_view_name": "StyleView",
            "bar_color": null,
            "description_width": ""
          }
        },
        "316d94d5cb724448928f39f60d684787": {
          "model_module": "@jupyter-widgets/base",
          "model_name": "LayoutModel",
          "model_module_version": "1.2.0",
          "state": {
            "_model_module": "@jupyter-widgets/base",
            "_model_module_version": "1.2.0",
            "_model_name": "LayoutModel",
            "_view_count": null,
            "_view_module": "@jupyter-widgets/base",
            "_view_module_version": "1.2.0",
            "_view_name": "LayoutView",
            "align_content": null,
            "align_items": null,
            "align_self": null,
            "border": null,
            "bottom": null,
            "display": null,
            "flex": null,
            "flex_flow": null,
            "grid_area": null,
            "grid_auto_columns": null,
            "grid_auto_flow": null,
            "grid_auto_rows": null,
            "grid_column": null,
            "grid_gap": null,
            "grid_row": null,
            "grid_template_areas": null,
            "grid_template_columns": null,
            "grid_template_rows": null,
            "height": null,
            "justify_content": null,
            "justify_items": null,
            "left": null,
            "margin": null,
            "max_height": null,
            "max_width": null,
            "min_height": null,
            "min_width": null,
            "object_fit": null,
            "object_position": null,
            "order": null,
            "overflow": null,
            "overflow_x": null,
            "overflow_y": null,
            "padding": null,
            "right": null,
            "top": null,
            "visibility": null,
            "width": null
          }
        },
        "011b6e6616074b3b823cb3563e732fdf": {
          "model_module": "@jupyter-widgets/controls",
          "model_name": "DescriptionStyleModel",
          "model_module_version": "1.5.0",
          "state": {
            "_model_module": "@jupyter-widgets/controls",
            "_model_module_version": "1.5.0",
            "_model_name": "DescriptionStyleModel",
            "_view_count": null,
            "_view_module": "@jupyter-widgets/base",
            "_view_module_version": "1.2.0",
            "_view_name": "StyleView",
            "description_width": ""
          }
        }
      }
    }
  },
  "nbformat": 4,
  "nbformat_minor": 0
}