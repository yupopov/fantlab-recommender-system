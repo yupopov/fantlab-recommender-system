{
  "cells": [
    {
      "cell_type": "code",
      "execution_count": null,
      "metadata": {
        "colab": {
          "base_uri": "https://localhost:8080/"
        },
        "id": "m_XNdlWBVOor",
        "outputId": "2dbed06f-7d6c-444e-b6d7-6ae0a2f219da"
      },
      "outputs": [
        {
          "output_type": "stream",
          "name": "stdout",
          "text": [
            "Cloning into 'fantlab-recommender-system'...\n",
            "Warning: Permanently added the ED25519 host key for IP address '140.82.114.4' to the list of known hosts.\n",
            "remote: Enumerating objects: 418, done.\u001b[K\n",
            "remote: Counting objects: 100% (15/15), done.\u001b[K\n",
            "remote: Compressing objects: 100% (12/12), done.\u001b[K\n",
            "remote: Total 418 (delta 5), reused 9 (delta 3), pack-reused 403\u001b[K\n",
            "Receiving objects: 100% (418/418), 545.32 MiB | 17.57 MiB/s, done.\n",
            "Resolving deltas: 100% (200/200), done.\n",
            "Checking out files: 100% (32/32), done.\n"
          ]
        }
      ],
      "source": [
        "! git clone git@github.com:yupopov/fantlab-recommender-system.git\n",
        "import os\n",
        "os.chdir('fantlab-recommender-system')"
      ]
    },
    {
      "cell_type": "code",
      "execution_count": null,
      "metadata": {
        "id": "ndC_mNyrSweC"
      },
      "outputs": [],
      "source": [
        "%%capture\n",
        "% load_ext autoreload\n",
        "% autoreload 2\n",
        "\n",
        "import sys\n",
        "import gzip\n",
        "from string import punctuation\n",
        "import requests\n",
        "import json\n",
        "import re\n",
        "import time\n",
        "from collections import defaultdict, Counter\n",
        "from tqdm.auto import tqdm\n",
        "import pickle\n",
        "from pprint import pprint\n",
        "\n",
        "import numpy as np\n",
        "import pandas as pd\n",
        "\n",
        "from src.data_retrieval.html_extraction import get_work_ids"
      ]
    },
    {
      "cell_type": "markdown",
      "source": [
        "# Data downloading\n",
        "The data for has already been downloaded and is located in `data/raw` directory of the project."
      ],
      "metadata": {
        "id": "v2PWX9cG8EIO"
      }
    },
    {
      "cell_type": "code",
      "source": [
        "# to find the file you need to look in ./data/raw/\n",
        "get_work_ids(out_file='example_ids.txt')"
      ],
      "metadata": {
        "id": "0QXQROZN_9-y"
      },
      "execution_count": null,
      "outputs": []
    },
    {
      "cell_type": "markdown",
      "source": [
        "The data is downloaded asynchronously, and Jupyter notebooks do not allow to run asynchronous functions, so download the data using Python scripts:"
      ],
      "metadata": {
        "id": "bDWTcxtc-sgx"
      }
    },
    {
      "cell_type": "code",
      "source": [
        "! python /content/fantlab-recommender-system/src/data_retrieval/async_download.py -h"
      ],
      "metadata": {
        "id": "9STcn2UX8DZJ"
      },
      "execution_count": null,
      "outputs": []
    },
    {
      "cell_type": "code",
      "source": [
        "! python /content/fantlab-recommender-system/src/data_retrieval/async_download.py 'https://api.fantlab.ru/work/{work_id}/extended' ./data/raw/work_ids.txt example.infos"
      ],
      "metadata": {
        "id": "quvr61Rq9rz-"
      },
      "execution_count": null,
      "outputs": []
    },
    {
      "cell_type": "code",
      "source": [
        "! python /content/fantlab-recommender-system/src/data_retrieval/async_download_marks.py -h"
      ],
      "metadata": {
        "id": "f6YrLMwM9J2W"
      },
      "execution_count": null,
      "outputs": []
    },
    {
      "cell_type": "code",
      "source": [
        "! python /content/fantlab-recommender-system/src/data_retrieval/async_download_marks.py 'https://fantlab.ru/work{work_id}/details' ./data/raw/work_ids.txt example_marks"
      ],
      "metadata": {
        "id": "lE8ha4l_9YZl"
      },
      "execution_count": null,
      "outputs": []
    }
  ],
  "metadata": {
    "colab": {
      "collapsed_sections": [],
      "name": "dataset_creation",
      "provenance": []
    },
    "kernelspec": {
      "display_name": "Python 3",
      "name": "python3"
    },
    "language_info": {
      "name": "python"
    }
  },
  "nbformat": 4,
  "nbformat_minor": 0
}